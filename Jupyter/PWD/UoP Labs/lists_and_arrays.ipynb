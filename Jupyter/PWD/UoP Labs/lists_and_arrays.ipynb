{
 "cells": [
  {
   "cell_type": "markdown",
   "metadata": {},
   "source": [
    "## Arrays and NumPy Arrays\n",
    "\n",
    "This lab will constitute practice with Python lists and NumPy arrays. If you've been struggling with Python data structures, this will be a good chance to refine your understanding. None of the tasks here will take more than a couple of lines of code (Python or NumPy tasks), so keep that in mind if you find yourself writing a lot of Python to solve a problem. Lots of code to do something simple is bad practice!\n",
    "\n",
    "If you get stuck there are plenty of references [here](https://docs.python.org/3/tutorial/datastructures.html) and [here](https://numpy.org/doc/stable/)\n",
    "\n",
    "Be sure to test your code with different values for the example data -- exploration is key to learning.\n",
    "\n",
    "### Try not to use StackOverflow.\n",
    "If you get stuck, jump into the discussion forums and explain your logic and where you are stuck. Equally, if you \n",
    "find this easy you might want to jump in and help others. A good way to learn is explaining topics and concepts.\n",
    "\n"
   ]
  },
  {
   "cell_type": "code",
   "execution_count": null,
   "metadata": {},
   "outputs": [],
   "source": [
    "# Need to import numpy for this\n",
    "import numpy as np"
   ]
  },
  {
   "cell_type": "code",
   "execution_count": null,
   "metadata": {},
   "outputs": [],
   "source": [
    "## Sample tasks with data and solutions.\n",
    "P = [1,2,3,6,3,1,4,7,9,4,5,9]\n",
    "N = np.array(P)\n",
    "\n",
    "## Task 0a: print the maximum value of Python list P without using NumPy:\n",
    "print(max(P)) # max() is a Python function that operates on lists\n",
    "\n",
    "## Task 0b: print the maximum value of NumPy array N using NumPy functions:\n",
    "print(N.max()) # N.max() is a function of NumPy Arrays. Note the syntax and that it doesn't take any arguments"
   ]
  },
  {
   "cell_type": "code",
   "execution_count": null,
   "metadata": {},
   "outputs": [],
   "source": [
    "## Note that Python prints Python lists slightly differently than NumPy Arrays\n",
    "## Don't worry about this...\n",
    "\n",
    "print([1,2,3])\n",
    "print(np.array([1,2,3]))"
   ]
  },
  {
   "cell_type": "markdown",
   "metadata": {},
   "source": [
    "## The Lab\n",
    "\n",
    "From this cell onward, you need to complete the tasks specified in each cell. Please keep your solutions to a single cell -- you do not need define new functions. If you create extra cells to test things, you can always delete them afterwards."
   ]
  },
  {
   "cell_type": "code",
   "execution_count": null,
   "metadata": {},
   "outputs": [],
   "source": [
    "P = [1,2,3,6,3,1,4,7,9,4,5,9]\n",
    "N = np.array(P)\n",
    "## Task 1a: Print the average (arithmetic mean) of Python list P without using NumPy:\n",
    "\n",
    "## Task 1b: Print the average (arithmetic mean) of NumPy array N without using NumPy:\n"
   ]
  },
  {
   "cell_type": "code",
   "execution_count": null,
   "metadata": {},
   "outputs": [],
   "source": [
    "P1 = [1,2,3,6,3,1,4,7,9,4,5,9]\n",
    "N1 = np.array(P1)\n",
    "\n",
    "P2 = [-1,-2,-3,-6,-3,-1,-4,-7,-9,-4,-5,-9]\n",
    "N2 = np.array(P2)\n",
    "## Task 2a: Concatonate and print Python list P1 with P2 without using NumPy:\n",
    "\n",
    "## Task 2a: Concatonate and print NumPy array N1 with N2 using NumPy:\n"
   ]
  },
  {
   "cell_type": "code",
   "execution_count": null,
   "metadata": {},
   "outputs": [],
   "source": [
    "P1 = [1,2,3,6,3,1,4,7,9,4,5,9]\n",
    "N1 = np.array(P1)\n",
    "\n",
    "P2 = [-1,-2,-3,-6,-3,-1,-4,-7,-9,-4,-5,-9]\n",
    "N2 = np.array(P2)\n",
    "\n",
    "## Task 3a: Add every value of Python list P1 to the corresponding value in P2 and print the result:\n",
    "\n",
    "# Bonus task: can you do it without overwriting P1 or P2? Without a loop and an intermediate variable?\n",
    "\n",
    "## Task 3a: Add every value of NumPy array N1 to the corresponding value in N2 and print the result:\n",
    "\n",
    "# Open question: What should this task do if the lengths of the arrays are not equal? Why?"
   ]
  },
  {
   "cell_type": "code",
   "execution_count": null,
   "metadata": {},
   "outputs": [],
   "source": [
    "P = [1,2,3,6,3,1,4,7,9,4,5,9]\n",
    "N = np.array(P)\n",
    "\n",
    "## Task 4a: Print the result of swapping the first and second halves of Python list P.\n",
    "## If the length of P is odd, the middle element should not be moved\n",
    "## Example: [1,2,3,4] -> [3,4,1,2]; [1,2,3,4,5] -> [4,5,3,1,2]\n",
    "\n",
    "## Task 4a: Swap the first and second halves of NumPy array N. If the length of P is even, the middle \n",
    "## If the length of N is odd, the middle element should not be moved\n",
    "\n",
    "## Note that NumPy doesn't simplify everything! :)"
   ]
  },
  {
   "cell_type": "code",
   "execution_count": null,
   "metadata": {},
   "outputs": [],
   "source": [
    "# If you're not sure of the definition of Standard Deviation, do some googlin'\n",
    "P = [1,2,3,6,3,1,4,7,9,4,5,9]\n",
    "N = np.array(P)\n",
    "\n",
    "## Task 5a: Compute and print the stadard deviation of Python list P without using NumPy:\n",
    "# Note that you may need new variables to hold intermediate values\n",
    "# Hint: remember that the square root of x is equivalent x to the power of .5\n",
    "\n",
    "\n",
    "## Task 5b: Compute and print the standard deviation of NumPy array N using NumPy:\n"
   ]
  }
 ],
 "metadata": {
  "kernelspec": {
   "display_name": "Python 3",
   "language": "python",
   "name": "python3"
  },
  "language_info": {
   "codemirror_mode": {
    "name": "ipython",
    "version": 3
   },
   "file_extension": ".py",
   "mimetype": "text/x-python",
   "name": "python",
   "nbconvert_exporter": "python",
   "pygments_lexer": "ipython3",
   "version": "3.7.6"
  }
 },
 "nbformat": 4,
 "nbformat_minor": 2
}
