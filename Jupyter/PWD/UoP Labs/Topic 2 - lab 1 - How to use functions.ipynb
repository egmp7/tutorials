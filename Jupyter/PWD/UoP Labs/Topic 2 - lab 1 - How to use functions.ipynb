{
 "cells": [
  {
   "cell_type": "code",
   "execution_count": 5,
   "metadata": {},
   "outputs": [
    {
     "name": "stdout",
     "output_type": "stream",
     "text": [
      "4  is the highest\n"
     ]
    }
   ],
   "source": [
    "# Let's start with a gentle reminder about how functions work (we will use them a lot!) Can you get this function \n",
    "# to print the highest value from two values?\n",
    "\n",
    "def printHighest(x, y):\n",
    "\n",
    "    if x > y:\n",
    "        print (x , \" is the highest\")\n",
    "    \n",
    "printHighest(4,3)"
   ]
  },
  {
   "cell_type": "markdown",
   "metadata": {},
   "source": [
    "Iterate through a given list, computing some basic statistics using an external library (e.g. SciPy).  \n",
    "Consider the following list:\n",
    "\n",
    "mylist = [\"2\", \"3\", \"5\", \"7\", \"11\", \"13\", \"17\"]\n",
    "\n",
    "## Step 1\n",
    "Compute the mean of the values in this list using libraries such as NumPy or statistics.\n",
    "\n",
    "\n"
   ]
  },
  {
   "cell_type": "code",
   "execution_count": 10,
   "metadata": {},
   "outputs": [
    {
     "data": {
      "text/plain": [
       "8.285714285714286"
      ]
     },
     "execution_count": 10,
     "metadata": {},
     "output_type": "execute_result"
    }
   ],
   "source": [
    "import numpy as np\n",
    "\n",
    "mylist = [\"2\", \"3\", \"5\", \"7\", \"11\", \"13\", \"17\"]\n",
    "mylistInt =[]\n",
    "\n",
    "for element in mylist:\n",
    "    mylistInt.append(int(element))\n",
    "    \n",
    "np.mean(mylistInt)\n",
    "\n"
   ]
  },
  {
   "cell_type": "markdown",
   "metadata": {},
   "source": [
    "## Step 2\n",
    "Compute the standard deviation utilising the same approach, but this time without the use of external libraries. \n"
   ]
  },
  {
   "cell_type": "markdown",
   "metadata": {},
   "source": [
    "Libraries are useful and save us lots of time, but there may not always be a case where a library is available for the job of work that we need to do. Be prepared to look for pre-made solutions but also to work with the tools that you have to solve problems!"
   ]
  },
  {
   "cell_type": "code",
   "execution_count": null,
   "metadata": {},
   "outputs": [],
   "source": [
    "# Jump back into the forums to discuss the difference in approach. Are libraries easier? Are there differences in \n",
    "# things like accuracy and precision? Can you tell us why this is?"
   ]
  },
  {
   "cell_type": "markdown",
   "metadata": {},
   "source": [
    "In the next exercise we will be looking at the curious date/time construct. Programmers have argued for years about the best way to represent date and time. As numbers. Letters. Sometimes even as arbitrary timers from a specified \n",
    "time. We will have a look as to why it is such a tricky construct to deal with in the next lab exercise."
   ]
  }
 ],
 "metadata": {
  "kernelspec": {
   "display_name": "Python 3 (ipykernel)",
   "language": "python",
   "name": "python3"
  },
  "language_info": {
   "codemirror_mode": {
    "name": "ipython",
    "version": 3
   },
   "file_extension": ".py",
   "mimetype": "text/x-python",
   "name": "python",
   "nbconvert_exporter": "python",
   "pygments_lexer": "ipython3",
   "version": "3.8.9"
  }
 },
 "nbformat": 4,
 "nbformat_minor": 4
}
