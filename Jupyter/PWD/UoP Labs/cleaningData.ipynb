{
 "cells": [
  {
   "cell_type": "markdown",
   "metadata": {},
   "source": [
    "### Throughout this exercise, you may need to refer to online documentation.\n",
    "\n",
    "Pandas: http://pandas.pydata.org/pandas-docs/stable/\n",
    "\n",
    "Numpy & Scipy: https://docs.scipy.org/doc/"
   ]
  },
  {
   "cell_type": "code",
   "execution_count": null,
   "metadata": {},
   "outputs": [],
   "source": [
    "# First, import packages and load some data\n",
    "import pandas      as pd\n",
    "import numpy       as np\n",
    "import scipy       as sp\n",
    "import scipy.stats as stats\n",
    "\n",
    "datafile = './pima-indians-diabetes.csv'\n",
    "\n",
    "df = pd.read_csv(datafile, header=0, index_col=None)\n",
    "df"
   ]
  },
  {
   "cell_type": "code",
   "execution_count": null,
   "metadata": {},
   "outputs": [],
   "source": [
    "# Missing data is coded as 0 in all but the first and last columns (where 0 is meaningful)\n",
    "# Change 0s in columns 1-7 to np.nan\n",
    "\n",
    "# Hint: you can conditionally assign slices of a dataframe to a new value:\n",
    "# eg. df[df[c]==x] = v  will change values in column c to v where they were originall x.\n",
    "# And remember you can slice multiple columns with as df[[0,1]] for the first two columns\n",
    "# You can also look at pandas' DataFrame.replace() function\n"
   ]
  },
  {
   "cell_type": "code",
   "execution_count": null,
   "metadata": {},
   "outputs": [],
   "source": [
    "# The basics: counts, min, max, mean, median and mode\n",
    "# Get the count (of all non-NaNs), min, max, mean, median and mode of each column.\n",
    "\n",
    "# Hint 1: use numpy's min(), max(), nanmean() and nanmedian() functions.\n",
    "# Hint 2: scipy.stats has a mode function ... but it returns a complex object.\n",
    "\n",
    "# Which column has the most missing values?\n",
    "print (\"Column,Count,Min,Max,Mean,Median,Mode\")\n",
    "for col in df.columns:\n",
    "    # go..."
   ]
  },
  {
   "cell_type": "code",
   "execution_count": null,
   "metadata": {},
   "outputs": [],
   "source": [
    "# Now let's try to better characterize the column distributions.\n",
    "# First, we can \"centre\" each column (also called a z-transform) so that it has mean=0, variance=1\n",
    "# To center a value, we simply subtract the mean of the distribution, and divide that value \n",
    "#   by the standard deviation of the distribution:\n",
    "# for each value v in a distribution of values V:\n",
    "#    v = (v-mean(V)) / std(V)\n",
    "\n",
    "# Write a centre() function\n",
    "# Hint: centre([0,1,2,3,5,10]) => [-1.059, -0.757, -0.454, -0.151, 0.454, 1.967]\n",
    "\n",
    "# Remember to use np.nanmean() and np.nanstd() to deal with NaNs\n",
    "def centre(v):\n",
    "    \"\"\"Returns a copy of array `v with centred values\"\"\"\n",
    "    "
   ]
  },
  {
   "cell_type": "code",
   "execution_count": null,
   "metadata": {},
   "outputs": [],
   "source": [
    "# Let's make a copy of df, to hold the centred values:\n",
    "cdf = df.copy()"
   ]
  },
  {
   "cell_type": "code",
   "execution_count": null,
   "metadata": {},
   "outputs": [],
   "source": [
    "# Now fill in cdf by applying your centre() function to each column in df"
   ]
  },
  {
   "cell_type": "code",
   "execution_count": null,
   "metadata": {},
   "outputs": [],
   "source": [
    "# Finally! Let's look for outliers by getting the min and max in the new centred df:\n",
    "# (You can re-use code from above!)\n",
    "# Hint: Does simply getting the min and the max give you the outliers?\n",
    "\n",
    "print (\"Column,Min,Max\")\n",
    "for col in cdf.columns:\n",
    "    # go..."
   ]
  },
  {
   "cell_type": "code",
   "execution_count": 1,
   "metadata": {},
   "outputs": [],
   "source": [
    "# trick question:\n",
    "# What is the mean of cdf['times_pregnant']?\n",
    "# Why isn't it zero?\n",
    "# Could it have something to do with the precision/rounding?"
   ]
  },
  {
   "cell_type": "code",
   "execution_count": null,
   "metadata": {},
   "outputs": [],
   "source": []
  }
 ],
 "metadata": {
  "kernelspec": {
   "display_name": "Python 3",
   "language": "python",
   "name": "python3"
  },
  "language_info": {
   "codemirror_mode": {
    "name": "ipython",
    "version": 3
   },
   "file_extension": ".py",
   "mimetype": "text/x-python",
   "name": "python",
   "nbconvert_exporter": "python",
   "pygments_lexer": "ipython3",
   "version": "3.7.6"
  }
 },
 "nbformat": 4,
 "nbformat_minor": 2
}
