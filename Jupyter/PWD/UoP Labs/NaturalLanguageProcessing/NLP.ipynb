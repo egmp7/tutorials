{
 "cells": [
  {
   "cell_type": "markdown",
   "metadata": {},
   "source": [
    "<h3>In our exercises we aim to explore the contextual relevance of our work at a bit more depth. The lectures are full of basic examples, but we really learn to code by - you guessed it - writing code!</h3>\n",
    "\n",
    "We are going to combine some of the basic techniques we have learned and at the same time explore some libraries that get us up to speed <b>quickly</b> and <b>efficiently</b>. Let's get started."
   ]
  },
  {
   "cell_type": "markdown",
   "metadata": {},
   "source": [
    "<h1> Activity 1 </h1>\n",
    "\n",
    "<h3>To lemmatize or stem? It's a good question!</h3>\n",
    "\n",
    "lemmatize is good for finding a (meaningful) word that is synonymous <b>and</b> has meaning\n",
    "stemming is similar, but will find the root of the word. It also might come up with nonsense words as 'roots' do not need to be meaningful.\n",
    "\n",
    "These techniques might come in useful if you have words of a similar 'ilk' and do not care to distinguish between them. The libraries will allow you to identify words in context so for example variations of a word may be verbs, adjectives, nouns etc.\n",
    "\n",
    "Try out a few variations of words e.g. dancer, dancing, dances etc and see if you can identify a pattern. Word categorisation is harder than it looks! Even when the words are very similar. Let's explore the two main approaches."
   ]
  },
  {
   "cell_type": "code",
   "execution_count": 6,
   "metadata": {},
   "outputs": [
    {
     "name": "stdout",
     "output_type": "stream",
     "text": [
      "Requirement already satisfied: nltk in /opt/conda/lib/python3.7/site-packages (3.6.3)\n",
      "Requirement already satisfied: regex in /opt/conda/lib/python3.7/site-packages (from nltk) (2021.9.24)\n",
      "Requirement already satisfied: click in /opt/conda/lib/python3.7/site-packages (from nltk) (7.1.2)\n",
      "Requirement already satisfied: joblib in /opt/conda/lib/python3.7/site-packages (from nltk) (0.14.1)\n",
      "Requirement already satisfied: tqdm in /opt/conda/lib/python3.7/site-packages (from nltk) (4.45.0)\n",
      "\u001b[33mWARNING: You are using pip version 20.2.3; however, version 21.2.4 is available.\n",
      "You should consider upgrading via the '/opt/conda/bin/python -m pip install --upgrade pip' command.\u001b[0m\n",
      "Collecting wordcloud\n",
      "  Downloading wordcloud-1.8.1-cp37-cp37m-manylinux1_x86_64.whl (366 kB)\n",
      "\u001b[K     |████████████████████████████████| 366 kB 30.5 MB/s eta 0:00:01\n",
      "\u001b[?25hRequirement already satisfied: matplotlib in /opt/conda/lib/python3.7/site-packages (from wordcloud) (3.2.1)\n",
      "Requirement already satisfied: pillow in /opt/conda/lib/python3.7/site-packages (from wordcloud) (7.1.2)\n",
      "Requirement already satisfied: numpy>=1.6.1 in /opt/conda/lib/python3.7/site-packages (from wordcloud) (1.18.4)\n",
      "Requirement already satisfied: pyparsing!=2.0.4,!=2.1.2,!=2.1.6,>=2.0.1 in /opt/conda/lib/python3.7/site-packages (from matplotlib->wordcloud) (2.4.7)\n",
      "Requirement already satisfied: kiwisolver>=1.0.1 in /opt/conda/lib/python3.7/site-packages (from matplotlib->wordcloud) (1.2.0)\n",
      "Requirement already satisfied: python-dateutil>=2.1 in /opt/conda/lib/python3.7/site-packages (from matplotlib->wordcloud) (2.8.1)\n",
      "Requirement already satisfied: cycler>=0.10 in /opt/conda/lib/python3.7/site-packages (from matplotlib->wordcloud) (0.10.0)\n",
      "Requirement already satisfied: six>=1.5 in /opt/conda/lib/python3.7/site-packages (from python-dateutil>=2.1->matplotlib->wordcloud) (1.14.0)\n",
      "Installing collected packages: wordcloud\n",
      "Successfully installed wordcloud-1.8.1\n",
      "\u001b[33mWARNING: You are using pip version 20.2.3; however, version 21.2.4 is available.\n",
      "You should consider upgrading via the '/opt/conda/bin/python -m pip install --upgrade pip' command.\u001b[0m\n",
      "Stemmed word: danc\n",
      "Lemmatized word: Dance\n"
     ]
    },
    {
     "name": "stderr",
     "output_type": "stream",
     "text": [
      "[nltk_data] Downloading package wordnet to /home/jovyan/nltk_data...\n",
      "[nltk_data]   Package wordnet is already up-to-date!\n"
     ]
    }
   ],
   "source": [
    "import sys\n",
    "!{sys.executable} -m pip install nltk\n",
    "!{sys.executable} -m pip install wordcloud\n",
    "\n",
    "# example 1\n",
    "\n",
    "# We start with the word dance and try to find variations of the word 'root' or 'origin'.\n",
    "# Try Dances, Dancing, Dancer etc. See how many combinations of words you can find that share the root.\n",
    "\n",
    "\n",
    "\n",
    "import nltk\n",
    "from nltk.stem import PorterStemmer\n",
    "nltk.download('wordnet')\n",
    "\n",
    "\n",
    "word = 'Dance'\n",
    "\n",
    "porter = PorterStemmer()\n",
    "print(\"Stemmed word: \" + porter.stem(word))\n",
    "\n",
    "# The stemmed version produces 'danc'\n",
    "\n",
    "from nltk.stem import WordNetLemmatizer\n",
    "wordnet_lemmatizer = WordNetLemmatizer()\n",
    "print(\"Lemmatized word: \" + wordnet_lemmatizer.lemmatize(word))\n",
    "\n",
    "# However, when we lemmatize we get the real word dance.\n",
    "\n",
    "#Can you see how stemming and lemmatization provide different 'origins' of words?\n",
    "\n",
    "\n",
    "# Extension activity 1: Try to take this example further by using a [\"list\", \"of\", \"words\"]  \n",
    "\n",
    "# Extension activity 2: Have a go at iterating through a list of words \n",
    "# with a for loop to make your code more efficient.\n",
    "\n"
   ]
  },
  {
   "cell_type": "markdown",
   "metadata": {},
   "source": [
    "<h3> Additional Resources </h3>\n",
    "NLTK also has categorisation and tagging options. These are beyond the scope of this course <b>but</b>\n",
    "If you do wish to explore these, the documentation can be found <a href=\"https://www.nltk.org/book/ch05.html\">here</a>.\n",
    "\n",
    "Section 1 Using a Tagger and Section 2 Tagged Corpora might be particularly useful resources for your coursework"
   ]
  },
  {
   "cell_type": "markdown",
   "metadata": {},
   "source": [
    "<h1> Activity 2 </h1>\n",
    "\n",
    "When working with text we often try to generate a high level overview of a corpus to determine things like its suitability for analysis and general structure/themes. There are a few ways we can do this. Let's begin with our high level analysis of the features of the text - starting with a familiar concept, term frequency!"
   ]
  },
  {
   "cell_type": "code",
   "execution_count": 3,
   "metadata": {},
   "outputs": [
    {
     "name": "stderr",
     "output_type": "stream",
     "text": [
      "[nltk_data] Downloading package punkt to /home/jovyan/nltk_data...\n",
      "[nltk_data]   Unzipping tokenizers/punkt.zip.\n",
      "[nltk_data] Downloading package stopwords to /home/jovyan/nltk_data...\n",
      "[nltk_data]   Unzipping corpora/stopwords.zip.\n"
     ]
    },
    {
     "name": "stdout",
     "output_type": "stream",
     "text": [
      "Without stop words: ['I', 'like', 'dance', '.', 'It', 'fun', 'dance', '.']\n",
      "With stop words: ['I', 'like', 'to', 'dance', '.', 'It', 'is', 'fun', 'to', 'dance', '.']\n",
      "<FreqDist with 8 samples and 11 outcomes>\n"
     ]
    },
    {
     "data": {
      "image/png": "[encoded data removed]",
      "text/plain": [
       "<Figure size 432x288 with 1 Axes>"
      ]
     },
     "metadata": {
      "needs_background": "light"
     },
     "output_type": "display_data"
    },
    {
     "data": {
      "text/plain": [
       "<matplotlib.axes._subplots.AxesSubplot at 0x7f16f788a210>"
      ]
     },
     "execution_count": 3,
     "metadata": {},
     "output_type": "execute_result"
    }
   ],
   "source": [
    "# example two, plotting popular words\n",
    "\n",
    "import nltk\n",
    "nltk.download('punkt')\n",
    "nltk.download('stopwords')\n",
    "\n",
    "# You don't have to include stopwords. You may decide to keep them in for your analysis.\n",
    "\n",
    "from nltk.corpus import stopwords\n",
    "\n",
    "\n",
    "# Let's save some time and use a library that is fit for purpose. No point reinventing the wheel!\n",
    "from nltk.probability import FreqDist\n",
    "\n",
    "sentence=\"I like to dance. It is fun to dance.\"\n",
    "# You might also wish to 'standardise' the text to lowercase using sentence.lower(). \n",
    "# Uncomment the line below (remove the #) if you do wish to standardise.\n",
    "\n",
    "#sentence = sentence.lower()\n",
    "\n",
    "tokens = nltk.tokenize.word_tokenize(sentence)\n",
    "\n",
    "# This is one way to remove stopwords\n",
    "filtered = [word for word in tokens if not word in stopwords.words()]\n",
    "print(\"Without stop words:\", filtered)\n",
    "\n",
    "f_dist = FreqDist(tokens)\n",
    "\n",
    "print(\"With stop words:\", tokens)\n",
    "print(f_dist)\n",
    "\n",
    "# We can plot the data we have in a relatively simple manner, either with or without stopwords. \n",
    "import matplotlib.pyplot as plt\n",
    "fd = nltk.FreqDist(tokens)\n",
    "\n",
    "# We will feed our plot all '8' words as a parameter for our plot. We also want to set cumulative as 'false'\n",
    "fd.plot(8,cumulative=False, title=\"My first frequency distribution.\")"
   ]
  },
  {
   "cell_type": "markdown",
   "metadata": {},
   "source": [
    "<h1> Activity 3 </h1>\n",
    "<h3>Sentiment analysis is another way to contextualise words and their associated meaning. </h3>\n",
    "\n",
    "We can think of sentiment as either positive or negative, but this is a spectrum. 'Good' is not the same as 'Great.' It's good, but it's not great! I like chocolate but love coffee. If you gave me the choice of either chocolate or coffee, I'd always choose coffee!\n",
    "\n",
    "Some words perhaps do not have any sentiment at all, e.g. table, cabbage.\n",
    "\n",
    "We will use a popular library for social media data analysis to quickly calculate some metrics and see how we can turn a word into a quantifiable metric based on some predefined rules."
   ]
  },
  {
   "cell_type": "code",
   "execution_count": 4,
   "metadata": {},
   "outputs": [
    {
     "name": "stderr",
     "output_type": "stream",
     "text": [
      "[nltk_data] Downloading package vader_lexicon to\n",
      "[nltk_data]     /home/jovyan/nltk_data...\n"
     ]
    },
    {
     "data": {
      "text/plain": [
       "{'neg': 0.374, 'neu': 0.202, 'pos': 0.424, 'compound': 0.128}"
      ]
     },
     "execution_count": 4,
     "metadata": {},
     "output_type": "execute_result"
    }
   ],
   "source": [
    "# example 4 detecting sentiment - the easy way\n",
    "\n",
    "from nltk.sentiment.vader import SentimentIntensityAnalyzer\n",
    "\n",
    "# You will also want to load the Lexicon that quantifies polar sentiment (positive/negative)\n",
    "# Again, with Python, other people have often done the heavy lifting for us!\n",
    "nltk.download('vader_lexicon')\n",
    "\n",
    "analyzer=SentimentIntensityAnalyzer()\n",
    "\n",
    "# Values live on a spectrum. Love is more extremely positive than like for example.\n",
    "sentence = \"I love sandwiches. I hate cheese.\"\n",
    "\n",
    "# Try tweaking this sentence with your own words and phrases. \n",
    "# Does the order of words matter? Can you find any surprising categorisations of +/- sentiment?\n",
    "\n",
    "analyzer.polarity_scores(sentence)"
   ]
  },
  {
   "cell_type": "markdown",
   "metadata": {},
   "source": [
    "<h1> Activity 4 </h1>\n",
    "<h3> High level visualisations for narrative </h3>\n",
    "We cover visualisations later, but let's have a look at how we might visualise some given text in a simple way.\n",
    "\n",
    "This is really helpful in the context of exploratory data analysis to give us a high level overview of words."
   ]
  },
  {
   "cell_type": "code",
   "execution_count": 7,
   "metadata": {},
   "outputs": [
    {
     "name": "stdout",
     "output_type": "stream",
     "text": [
      "I love sandwiches. I hate cheese.\n"
     ]
    },
    {
     "data": {
      "image/png": "[encoded data removed]",
      "text/plain": [
       "<Figure size 432x288 with 1 Axes>"
      ]
     },
     "metadata": {
      "needs_background": "light"
     },
     "output_type": "display_data"
    }
   ],
   "source": [
    "# example 4 final, plotting a word cloud\n",
    "\n",
    "from wordcloud import WordCloud\n",
    "\n",
    "print(sentence)\n",
    "sentence = 'I love sandwiches. I hate cheese.'\n",
    "\n",
    "# Create and generate a word cloud image:\n",
    "wordcloud = WordCloud().generate(sentence)\n",
    "\n",
    "# Display the generated image:\n",
    "plt.imshow(wordcloud, interpolation='bilinear')\n",
    "\n",
    "# bilinear interpolation is a way to spread the words out without them bumping into one another\n",
    "plt.axis(\"off\")\n",
    "plt.show()\n",
    "\n",
    "# Do you notice some words missing? Did you remove stopwords? Have a go at loading a file in.\n",
    "# Can you produce a wordcloud of some text that you are interested in analysing?"
   ]
  },
  {
   "cell_type": "markdown",
   "metadata": {},
   "source": [
    "We've seen some very simple examples of what we can do here. Use this boiletplate code to pick a 'theme' of your own. Find a dataset that contains some words and see if you can work through the data processing pipeline in the same way.\n",
    "\n",
    "Finally, see if you can share a mini analysis of your own using some or even all of the tools you have learned about."
   ]
  }
 ],
 "metadata": {
  "kernelspec": {
   "display_name": "Python 3 (ipykernel)",
   "language": "python",
   "name": "python3"
  },
  "language_info": {
   "codemirror_mode": {
    "name": "ipython",
    "version": 3
   },
   "file_extension": ".py",
   "mimetype": "text/x-python",
   "name": "python",
   "nbconvert_exporter": "python",
   "pygments_lexer": "ipython3",
   "version": "3.8.9"
  }
 },
 "nbformat": 4,
 "nbformat_minor": 2
}
