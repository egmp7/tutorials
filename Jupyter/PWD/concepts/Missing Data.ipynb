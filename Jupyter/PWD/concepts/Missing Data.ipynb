{
 "cells": [
  {
   "cell_type": "markdown",
   "id": "04c63cbd",
   "metadata": {},
   "source": [
    "<h2>Topic 7</h2>\n",
    "<h3>1. Missing Data p1</h3>\n",
    "<p>Replace values with NAN values</p>"
   ]
  },
  {
   "cell_type": "code",
   "execution_count": 3,
   "id": "be7f181d",
   "metadata": {},
   "outputs": [
    {
     "data": {
      "text/plain": [
       "0     one\n",
       "1     two\n",
       "2     NaN\n",
       "3    four\n",
       "4    None\n",
       "5     Six\n",
       "dtype: object"
      ]
     },
     "execution_count": 3,
     "metadata": {},
     "output_type": "execute_result"
    }
   ],
   "source": [
    "import pandas as pd\n",
    "import numpy as np\n",
    "myseries = pd.Series(['one','two',np.nan,'four',None,\"Six\"])\n",
    "myseries"
   ]
  },
  {
   "cell_type": "code",
   "execution_count": 4,
   "id": "9ec0cee7",
   "metadata": {},
   "outputs": [
    {
     "data": {
      "text/plain": [
       "0    False\n",
       "1    False\n",
       "2     True\n",
       "3    False\n",
       "4     True\n",
       "5    False\n",
       "dtype: bool"
      ]
     },
     "execution_count": 4,
     "metadata": {},
     "output_type": "execute_result"
    }
   ],
   "source": [
    "myseries.isnull()"
   ]
  },
  {
   "cell_type": "code",
   "execution_count": 5,
   "id": "59e75521",
   "metadata": {},
   "outputs": [
    {
     "data": {
      "text/plain": [
       "0     one\n",
       "1     two\n",
       "3    four\n",
       "5     Six\n",
       "dtype: object"
      ]
     },
     "execution_count": 5,
     "metadata": {},
     "output_type": "execute_result"
    }
   ],
   "source": [
    "myseries[myseries.notnull()]"
   ]
  },
  {
   "cell_type": "code",
   "execution_count": 6,
   "id": "778dac10",
   "metadata": {},
   "outputs": [
    {
     "data": {
      "text/plain": [
       "0     one\n",
       "1     two\n",
       "3    four\n",
       "5     Six\n",
       "dtype: object"
      ]
     },
     "execution_count": 6,
     "metadata": {},
     "output_type": "execute_result"
    }
   ],
   "source": [
    "myseries.dropna()"
   ]
  },
  {
   "cell_type": "code",
   "execution_count": 7,
   "id": "86370dc0",
   "metadata": {},
   "outputs": [
    {
     "data": {
      "text/plain": [
       "0     one\n",
       "1     two\n",
       "3    four\n",
       "5     Six\n",
       "dtype: object"
      ]
     },
     "execution_count": 7,
     "metadata": {},
     "output_type": "execute_result"
    }
   ],
   "source": [
    "newseries = myseries.dropna()\n",
    "newseries"
   ]
  },
  {
   "cell_type": "code",
   "execution_count": 9,
   "id": "4a23913c",
   "metadata": {},
   "outputs": [
    {
     "data": {
      "text/html": [
       "<div>\n",
       "<style scoped>\n",
       "    .dataframe tbody tr th:only-of-type {\n",
       "        vertical-align: middle;\n",
       "    }\n",
       "\n",
       "    .dataframe tbody tr th {\n",
       "        vertical-align: top;\n",
       "    }\n",
       "\n",
       "    .dataframe thead th {\n",
       "        text-align: right;\n",
       "    }\n",
       "</style>\n",
       "<table border=\"1\" class=\"dataframe\">\n",
       "  <thead>\n",
       "    <tr style=\"text-align: right;\">\n",
       "      <th></th>\n",
       "      <th>0</th>\n",
       "      <th>1</th>\n",
       "    </tr>\n",
       "  </thead>\n",
       "  <tbody>\n",
       "    <tr>\n",
       "      <th>0</th>\n",
       "      <td>0.383817</td>\n",
       "      <td>0.349902</td>\n",
       "    </tr>\n",
       "    <tr>\n",
       "      <th>1</th>\n",
       "      <td>0.569895</td>\n",
       "      <td>0.867298</td>\n",
       "    </tr>\n",
       "  </tbody>\n",
       "</table>\n",
       "</div>"
      ],
      "text/plain": [
       "          0         1\n",
       "0  0.383817  0.349902\n",
       "1  0.569895  0.867298"
      ]
     },
     "execution_count": 9,
     "metadata": {},
     "output_type": "execute_result"
    }
   ],
   "source": [
    "from numpy import nan as NA\n",
    "df = pd.DataFrame(np.random.rand(2,2))\n",
    "df"
   ]
  },
  {
   "cell_type": "code",
   "execution_count": 16,
   "id": "003b1948",
   "metadata": {},
   "outputs": [
    {
     "data": {
      "text/html": [
       "<div>\n",
       "<style scoped>\n",
       "    .dataframe tbody tr th:only-of-type {\n",
       "        vertical-align: middle;\n",
       "    }\n",
       "\n",
       "    .dataframe tbody tr th {\n",
       "        vertical-align: top;\n",
       "    }\n",
       "\n",
       "    .dataframe thead th {\n",
       "        text-align: right;\n",
       "    }\n",
       "</style>\n",
       "<table border=\"1\" class=\"dataframe\">\n",
       "  <thead>\n",
       "    <tr style=\"text-align: right;\">\n",
       "      <th></th>\n",
       "      <th>0</th>\n",
       "      <th>1</th>\n",
       "    </tr>\n",
       "  </thead>\n",
       "  <tbody>\n",
       "    <tr>\n",
       "      <th>0</th>\n",
       "      <td>NaN</td>\n",
       "      <td>0.349902</td>\n",
       "    </tr>\n",
       "    <tr>\n",
       "      <th>1</th>\n",
       "      <td>NaN</td>\n",
       "      <td>NaN</td>\n",
       "    </tr>\n",
       "  </tbody>\n",
       "</table>\n",
       "</div>"
      ],
      "text/plain": [
       "    0         1\n",
       "0 NaN  0.349902\n",
       "1 NaN       NaN"
      ]
     },
     "execution_count": 16,
     "metadata": {},
     "output_type": "execute_result"
    }
   ],
   "source": [
    "df.iloc[1,1] = NA\n",
    "df.dropna()\n",
    "df"
   ]
  },
  {
   "cell_type": "code",
   "execution_count": 18,
   "id": "31142f07",
   "metadata": {},
   "outputs": [
    {
     "data": {
      "text/html": [
       "<div>\n",
       "<style scoped>\n",
       "    .dataframe tbody tr th:only-of-type {\n",
       "        vertical-align: middle;\n",
       "    }\n",
       "\n",
       "    .dataframe tbody tr th {\n",
       "        vertical-align: top;\n",
       "    }\n",
       "\n",
       "    .dataframe thead th {\n",
       "        text-align: right;\n",
       "    }\n",
       "</style>\n",
       "<table border=\"1\" class=\"dataframe\">\n",
       "  <thead>\n",
       "    <tr style=\"text-align: right;\">\n",
       "      <th></th>\n",
       "      <th>0</th>\n",
       "      <th>1</th>\n",
       "      <th>2</th>\n",
       "      <th>3</th>\n",
       "      <th>4</th>\n",
       "    </tr>\n",
       "  </thead>\n",
       "  <tbody>\n",
       "    <tr>\n",
       "      <th>0</th>\n",
       "      <td>0.574888</td>\n",
       "      <td>0.662072</td>\n",
       "      <td>0.750551</td>\n",
       "      <td>0.172617</td>\n",
       "      <td>0.265148</td>\n",
       "    </tr>\n",
       "    <tr>\n",
       "      <th>1</th>\n",
       "      <td>0.920455</td>\n",
       "      <td>0.094444</td>\n",
       "      <td>0.279663</td>\n",
       "      <td>0.658213</td>\n",
       "      <td>0.769181</td>\n",
       "    </tr>\n",
       "    <tr>\n",
       "      <th>2</th>\n",
       "      <td>0.749811</td>\n",
       "      <td>0.810176</td>\n",
       "      <td>0.435099</td>\n",
       "      <td>0.983211</td>\n",
       "      <td>0.079770</td>\n",
       "    </tr>\n",
       "    <tr>\n",
       "      <th>3</th>\n",
       "      <td>0.453796</td>\n",
       "      <td>0.882771</td>\n",
       "      <td>0.179421</td>\n",
       "      <td>0.316947</td>\n",
       "      <td>0.457510</td>\n",
       "    </tr>\n",
       "    <tr>\n",
       "      <th>4</th>\n",
       "      <td>0.428276</td>\n",
       "      <td>0.027850</td>\n",
       "      <td>0.229015</td>\n",
       "      <td>0.014248</td>\n",
       "      <td>0.565436</td>\n",
       "    </tr>\n",
       "  </tbody>\n",
       "</table>\n",
       "</div>"
      ],
      "text/plain": [
       "          0         1         2         3         4\n",
       "0  0.574888  0.662072  0.750551  0.172617  0.265148\n",
       "1  0.920455  0.094444  0.279663  0.658213  0.769181\n",
       "2  0.749811  0.810176  0.435099  0.983211  0.079770\n",
       "3  0.453796  0.882771  0.179421  0.316947  0.457510\n",
       "4  0.428276  0.027850  0.229015  0.014248  0.565436"
      ]
     },
     "execution_count": 18,
     "metadata": {},
     "output_type": "execute_result"
    }
   ],
   "source": [
    "df = pd.DataFrame(np.random.rand(5,5))\n",
    "df"
   ]
  },
  {
   "cell_type": "code",
   "execution_count": 24,
   "id": "c6053d6a",
   "metadata": {},
   "outputs": [
    {
     "data": {
      "text/html": [
       "<div>\n",
       "<style scoped>\n",
       "    .dataframe tbody tr th:only-of-type {\n",
       "        vertical-align: middle;\n",
       "    }\n",
       "\n",
       "    .dataframe tbody tr th {\n",
       "        vertical-align: top;\n",
       "    }\n",
       "\n",
       "    .dataframe thead th {\n",
       "        text-align: right;\n",
       "    }\n",
       "</style>\n",
       "<table border=\"1\" class=\"dataframe\">\n",
       "  <thead>\n",
       "    <tr style=\"text-align: right;\">\n",
       "      <th></th>\n",
       "      <th>0</th>\n",
       "      <th>1</th>\n",
       "      <th>2</th>\n",
       "      <th>3</th>\n",
       "      <th>4</th>\n",
       "    </tr>\n",
       "  </thead>\n",
       "  <tbody>\n",
       "    <tr>\n",
       "      <th>0</th>\n",
       "      <td>NaN</td>\n",
       "      <td>NaN</td>\n",
       "      <td>NaN</td>\n",
       "      <td>0.172617</td>\n",
       "      <td>0.265148</td>\n",
       "    </tr>\n",
       "    <tr>\n",
       "      <th>1</th>\n",
       "      <td>NaN</td>\n",
       "      <td>0.094444</td>\n",
       "      <td>0.279663</td>\n",
       "      <td>NaN</td>\n",
       "      <td>NaN</td>\n",
       "    </tr>\n",
       "    <tr>\n",
       "      <th>2</th>\n",
       "      <td>NaN</td>\n",
       "      <td>NaN</td>\n",
       "      <td>0.435099</td>\n",
       "      <td>NaN</td>\n",
       "      <td>0.079770</td>\n",
       "    </tr>\n",
       "    <tr>\n",
       "      <th>3</th>\n",
       "      <td>0.453796</td>\n",
       "      <td>0.882771</td>\n",
       "      <td>0.179421</td>\n",
       "      <td>0.316947</td>\n",
       "      <td>0.457510</td>\n",
       "    </tr>\n",
       "    <tr>\n",
       "      <th>4</th>\n",
       "      <td>0.428276</td>\n",
       "      <td>0.027850</td>\n",
       "      <td>0.229015</td>\n",
       "      <td>0.014248</td>\n",
       "      <td>0.565436</td>\n",
       "    </tr>\n",
       "  </tbody>\n",
       "</table>\n",
       "</div>"
      ],
      "text/plain": [
       "          0         1         2         3         4\n",
       "0       NaN       NaN       NaN  0.172617  0.265148\n",
       "1       NaN  0.094444  0.279663       NaN       NaN\n",
       "2       NaN       NaN  0.435099       NaN  0.079770\n",
       "3  0.453796  0.882771  0.179421  0.316947  0.457510\n",
       "4  0.428276  0.027850  0.229015  0.014248  0.565436"
      ]
     },
     "execution_count": 24,
     "metadata": {},
     "output_type": "execute_result"
    }
   ],
   "source": [
    "df[df.iloc[:2]>=0.5] = np.nan\n",
    "df"
   ]
  },
  {
   "cell_type": "markdown",
   "id": "46f03e05",
   "metadata": {},
   "source": [
    "<h3>2. Missing Data p2</h3>\n",
    "<p>Replace NAN values with other values</p>"
   ]
  },
  {
   "cell_type": "code",
   "execution_count": 25,
   "id": "a55391fe",
   "metadata": {},
   "outputs": [
    {
     "data": {
      "text/html": [
       "<div>\n",
       "<style scoped>\n",
       "    .dataframe tbody tr th:only-of-type {\n",
       "        vertical-align: middle;\n",
       "    }\n",
       "\n",
       "    .dataframe tbody tr th {\n",
       "        vertical-align: top;\n",
       "    }\n",
       "\n",
       "    .dataframe thead th {\n",
       "        text-align: right;\n",
       "    }\n",
       "</style>\n",
       "<table border=\"1\" class=\"dataframe\">\n",
       "  <thead>\n",
       "    <tr style=\"text-align: right;\">\n",
       "      <th></th>\n",
       "      <th>0</th>\n",
       "      <th>1</th>\n",
       "      <th>2</th>\n",
       "      <th>3</th>\n",
       "      <th>4</th>\n",
       "    </tr>\n",
       "  </thead>\n",
       "  <tbody>\n",
       "    <tr>\n",
       "      <th>0</th>\n",
       "      <td>0.747860</td>\n",
       "      <td>0.908695</td>\n",
       "      <td>0.142244</td>\n",
       "      <td>0.079630</td>\n",
       "      <td>0.344045</td>\n",
       "    </tr>\n",
       "    <tr>\n",
       "      <th>1</th>\n",
       "      <td>0.906544</td>\n",
       "      <td>0.740502</td>\n",
       "      <td>0.589817</td>\n",
       "      <td>0.927238</td>\n",
       "      <td>0.346552</td>\n",
       "    </tr>\n",
       "    <tr>\n",
       "      <th>2</th>\n",
       "      <td>0.779101</td>\n",
       "      <td>0.860275</td>\n",
       "      <td>0.617430</td>\n",
       "      <td>0.249606</td>\n",
       "      <td>0.365603</td>\n",
       "    </tr>\n",
       "    <tr>\n",
       "      <th>3</th>\n",
       "      <td>0.629609</td>\n",
       "      <td>0.042430</td>\n",
       "      <td>0.097102</td>\n",
       "      <td>0.379304</td>\n",
       "      <td>0.903190</td>\n",
       "    </tr>\n",
       "    <tr>\n",
       "      <th>4</th>\n",
       "      <td>0.633958</td>\n",
       "      <td>0.776411</td>\n",
       "      <td>0.505132</td>\n",
       "      <td>0.261035</td>\n",
       "      <td>0.716765</td>\n",
       "    </tr>\n",
       "  </tbody>\n",
       "</table>\n",
       "</div>"
      ],
      "text/plain": [
       "          0         1         2         3         4\n",
       "0  0.747860  0.908695  0.142244  0.079630  0.344045\n",
       "1  0.906544  0.740502  0.589817  0.927238  0.346552\n",
       "2  0.779101  0.860275  0.617430  0.249606  0.365603\n",
       "3  0.629609  0.042430  0.097102  0.379304  0.903190\n",
       "4  0.633958  0.776411  0.505132  0.261035  0.716765"
      ]
     },
     "execution_count": 25,
     "metadata": {},
     "output_type": "execute_result"
    }
   ],
   "source": [
    "df = pd.DataFrame(np.random.rand(5,5))\n",
    "df"
   ]
  },
  {
   "cell_type": "code",
   "execution_count": 26,
   "id": "e1d7fa72",
   "metadata": {},
   "outputs": [
    {
     "data": {
      "text/html": [
       "<div>\n",
       "<style scoped>\n",
       "    .dataframe tbody tr th:only-of-type {\n",
       "        vertical-align: middle;\n",
       "    }\n",
       "\n",
       "    .dataframe tbody tr th {\n",
       "        vertical-align: top;\n",
       "    }\n",
       "\n",
       "    .dataframe thead th {\n",
       "        text-align: right;\n",
       "    }\n",
       "</style>\n",
       "<table border=\"1\" class=\"dataframe\">\n",
       "  <thead>\n",
       "    <tr style=\"text-align: right;\">\n",
       "      <th></th>\n",
       "      <th>0</th>\n",
       "      <th>1</th>\n",
       "      <th>2</th>\n",
       "      <th>3</th>\n",
       "      <th>4</th>\n",
       "    </tr>\n",
       "  </thead>\n",
       "  <tbody>\n",
       "    <tr>\n",
       "      <th>0</th>\n",
       "      <td>0.747860</td>\n",
       "      <td>NaN</td>\n",
       "      <td>0.142244</td>\n",
       "      <td>0.079630</td>\n",
       "      <td>0.344045</td>\n",
       "    </tr>\n",
       "    <tr>\n",
       "      <th>1</th>\n",
       "      <td>NaN</td>\n",
       "      <td>0.740502</td>\n",
       "      <td>0.589817</td>\n",
       "      <td>NaN</td>\n",
       "      <td>0.346552</td>\n",
       "    </tr>\n",
       "    <tr>\n",
       "      <th>2</th>\n",
       "      <td>0.779101</td>\n",
       "      <td>0.860275</td>\n",
       "      <td>0.617430</td>\n",
       "      <td>0.249606</td>\n",
       "      <td>0.365603</td>\n",
       "    </tr>\n",
       "    <tr>\n",
       "      <th>3</th>\n",
       "      <td>0.629609</td>\n",
       "      <td>0.042430</td>\n",
       "      <td>0.097102</td>\n",
       "      <td>0.379304</td>\n",
       "      <td>NaN</td>\n",
       "    </tr>\n",
       "    <tr>\n",
       "      <th>4</th>\n",
       "      <td>0.633958</td>\n",
       "      <td>0.776411</td>\n",
       "      <td>0.505132</td>\n",
       "      <td>0.261035</td>\n",
       "      <td>0.716765</td>\n",
       "    </tr>\n",
       "  </tbody>\n",
       "</table>\n",
       "</div>"
      ],
      "text/plain": [
       "          0         1         2         3         4\n",
       "0  0.747860       NaN  0.142244  0.079630  0.344045\n",
       "1       NaN  0.740502  0.589817       NaN  0.346552\n",
       "2  0.779101  0.860275  0.617430  0.249606  0.365603\n",
       "3  0.629609  0.042430  0.097102  0.379304       NaN\n",
       "4  0.633958  0.776411  0.505132  0.261035  0.716765"
      ]
     },
     "execution_count": 26,
     "metadata": {},
     "output_type": "execute_result"
    }
   ],
   "source": [
    "df[df.iloc[0:5] > 0.9] = np.nan\n",
    "df"
   ]
  },
  {
   "cell_type": "code",
   "execution_count": 31,
   "id": "5da6b335",
   "metadata": {},
   "outputs": [
    {
     "name": "stdout",
     "output_type": "stream",
     "text": [
      "0\n"
     ]
    }
   ],
   "source": [
    "# df[number] represents the column\n",
    "print(df[2].isnull().sum())"
   ]
  },
  {
   "cell_type": "code",
   "execution_count": 32,
   "id": "0cb7f7f2",
   "metadata": {},
   "outputs": [
    {
     "data": {
      "text/html": [
       "<div>\n",
       "<style scoped>\n",
       "    .dataframe tbody tr th:only-of-type {\n",
       "        vertical-align: middle;\n",
       "    }\n",
       "\n",
       "    .dataframe tbody tr th {\n",
       "        vertical-align: top;\n",
       "    }\n",
       "\n",
       "    .dataframe thead th {\n",
       "        text-align: right;\n",
       "    }\n",
       "</style>\n",
       "<table border=\"1\" class=\"dataframe\">\n",
       "  <thead>\n",
       "    <tr style=\"text-align: right;\">\n",
       "      <th></th>\n",
       "      <th>0</th>\n",
       "      <th>1</th>\n",
       "      <th>2</th>\n",
       "      <th>3</th>\n",
       "      <th>4</th>\n",
       "    </tr>\n",
       "  </thead>\n",
       "  <tbody>\n",
       "    <tr>\n",
       "      <th>0</th>\n",
       "      <td>0.747860</td>\n",
       "      <td>0.000000</td>\n",
       "      <td>0.142244</td>\n",
       "      <td>0.079630</td>\n",
       "      <td>0.344045</td>\n",
       "    </tr>\n",
       "    <tr>\n",
       "      <th>1</th>\n",
       "      <td>0.000000</td>\n",
       "      <td>0.740502</td>\n",
       "      <td>0.589817</td>\n",
       "      <td>0.000000</td>\n",
       "      <td>0.346552</td>\n",
       "    </tr>\n",
       "    <tr>\n",
       "      <th>2</th>\n",
       "      <td>0.779101</td>\n",
       "      <td>0.860275</td>\n",
       "      <td>0.617430</td>\n",
       "      <td>0.249606</td>\n",
       "      <td>0.365603</td>\n",
       "    </tr>\n",
       "    <tr>\n",
       "      <th>3</th>\n",
       "      <td>0.629609</td>\n",
       "      <td>0.042430</td>\n",
       "      <td>0.097102</td>\n",
       "      <td>0.379304</td>\n",
       "      <td>0.000000</td>\n",
       "    </tr>\n",
       "    <tr>\n",
       "      <th>4</th>\n",
       "      <td>0.633958</td>\n",
       "      <td>0.776411</td>\n",
       "      <td>0.505132</td>\n",
       "      <td>0.261035</td>\n",
       "      <td>0.716765</td>\n",
       "    </tr>\n",
       "  </tbody>\n",
       "</table>\n",
       "</div>"
      ],
      "text/plain": [
       "          0         1         2         3         4\n",
       "0  0.747860  0.000000  0.142244  0.079630  0.344045\n",
       "1  0.000000  0.740502  0.589817  0.000000  0.346552\n",
       "2  0.779101  0.860275  0.617430  0.249606  0.365603\n",
       "3  0.629609  0.042430  0.097102  0.379304  0.000000\n",
       "4  0.633958  0.776411  0.505132  0.261035  0.716765"
      ]
     },
     "execution_count": 32,
     "metadata": {},
     "output_type": "execute_result"
    }
   ],
   "source": [
    "df.replace(np.nan,0)"
   ]
  },
  {
   "cell_type": "code",
   "execution_count": 33,
   "id": "0445a2c4",
   "metadata": {},
   "outputs": [
    {
     "data": {
      "text/html": [
       "<div>\n",
       "<style scoped>\n",
       "    .dataframe tbody tr th:only-of-type {\n",
       "        vertical-align: middle;\n",
       "    }\n",
       "\n",
       "    .dataframe tbody tr th {\n",
       "        vertical-align: top;\n",
       "    }\n",
       "\n",
       "    .dataframe thead th {\n",
       "        text-align: right;\n",
       "    }\n",
       "</style>\n",
       "<table border=\"1\" class=\"dataframe\">\n",
       "  <thead>\n",
       "    <tr style=\"text-align: right;\">\n",
       "      <th></th>\n",
       "      <th>0</th>\n",
       "      <th>1</th>\n",
       "      <th>2</th>\n",
       "      <th>3</th>\n",
       "      <th>4</th>\n",
       "    </tr>\n",
       "  </thead>\n",
       "  <tbody>\n",
       "    <tr>\n",
       "      <th>0</th>\n",
       "      <td>0.747860</td>\n",
       "      <td>0.604905</td>\n",
       "      <td>0.142244</td>\n",
       "      <td>0.079630</td>\n",
       "      <td>0.344045</td>\n",
       "    </tr>\n",
       "    <tr>\n",
       "      <th>1</th>\n",
       "      <td>0.697632</td>\n",
       "      <td>0.740502</td>\n",
       "      <td>0.589817</td>\n",
       "      <td>0.242394</td>\n",
       "      <td>0.346552</td>\n",
       "    </tr>\n",
       "    <tr>\n",
       "      <th>2</th>\n",
       "      <td>0.779101</td>\n",
       "      <td>0.860275</td>\n",
       "      <td>0.617430</td>\n",
       "      <td>0.249606</td>\n",
       "      <td>0.365603</td>\n",
       "    </tr>\n",
       "    <tr>\n",
       "      <th>3</th>\n",
       "      <td>0.629609</td>\n",
       "      <td>0.042430</td>\n",
       "      <td>0.097102</td>\n",
       "      <td>0.379304</td>\n",
       "      <td>0.443241</td>\n",
       "    </tr>\n",
       "    <tr>\n",
       "      <th>4</th>\n",
       "      <td>0.633958</td>\n",
       "      <td>0.776411</td>\n",
       "      <td>0.505132</td>\n",
       "      <td>0.261035</td>\n",
       "      <td>0.716765</td>\n",
       "    </tr>\n",
       "  </tbody>\n",
       "</table>\n",
       "</div>"
      ],
      "text/plain": [
       "          0         1         2         3         4\n",
       "0  0.747860  0.604905  0.142244  0.079630  0.344045\n",
       "1  0.697632  0.740502  0.589817  0.242394  0.346552\n",
       "2  0.779101  0.860275  0.617430  0.249606  0.365603\n",
       "3  0.629609  0.042430  0.097102  0.379304  0.443241\n",
       "4  0.633958  0.776411  0.505132  0.261035  0.716765"
      ]
     },
     "execution_count": 33,
     "metadata": {},
     "output_type": "execute_result"
    }
   ],
   "source": [
    "# replace values with the average of the column\n",
    "df.fillna(df.mean(), inplace=True)\n",
    "df"
   ]
  },
  {
   "cell_type": "code",
   "execution_count": 34,
   "id": "9e4ccdda",
   "metadata": {},
   "outputs": [
    {
     "data": {
      "text/plain": [
       "array([[0.74785987, 0.60490455, 0.14224419, 0.07962954, 0.34404488],\n",
       "       [0.697632  , 0.74050166, 0.58981653, 0.24239361, 0.34655178],\n",
       "       [0.77910091, 0.860275  , 0.61743015, 0.24960587, 0.36560286],\n",
       "       [0.62960892, 0.04243035, 0.09710173, 0.37930437, 0.44324108],\n",
       "       [0.63395831, 0.77641117, 0.50513207, 0.26103466, 0.71676478]])"
      ]
     },
     "execution_count": 34,
     "metadata": {},
     "output_type": "execute_result"
    }
   ],
   "source": [
    "values = df.values\n",
    "values"
   ]
  },
  {
   "cell_type": "markdown",
   "id": "932425a8",
   "metadata": {},
   "source": [
    "<h3>3. Missing Data p3</h3>\n",
    "<p>Replace NAN values with the most frequency value</p>"
   ]
  },
  {
   "cell_type": "code",
   "execution_count": 35,
   "id": "00f59a26",
   "metadata": {},
   "outputs": [
    {
     "data": {
      "text/html": [
       "<div>\n",
       "<style scoped>\n",
       "    .dataframe tbody tr th:only-of-type {\n",
       "        vertical-align: middle;\n",
       "    }\n",
       "\n",
       "    .dataframe tbody tr th {\n",
       "        vertical-align: top;\n",
       "    }\n",
       "\n",
       "    .dataframe thead th {\n",
       "        text-align: right;\n",
       "    }\n",
       "</style>\n",
       "<table border=\"1\" class=\"dataframe\">\n",
       "  <thead>\n",
       "    <tr style=\"text-align: right;\">\n",
       "      <th></th>\n",
       "      <th>0</th>\n",
       "      <th>1</th>\n",
       "      <th>2</th>\n",
       "      <th>3</th>\n",
       "      <th>4</th>\n",
       "    </tr>\n",
       "  </thead>\n",
       "  <tbody>\n",
       "    <tr>\n",
       "      <th>0</th>\n",
       "      <td>0.677075</td>\n",
       "      <td>0.626850</td>\n",
       "      <td>0.231733</td>\n",
       "      <td>0.821484</td>\n",
       "      <td>0.610713</td>\n",
       "    </tr>\n",
       "    <tr>\n",
       "      <th>1</th>\n",
       "      <td>0.725046</td>\n",
       "      <td>0.673966</td>\n",
       "      <td>0.300080</td>\n",
       "      <td>0.081244</td>\n",
       "      <td>0.533760</td>\n",
       "    </tr>\n",
       "    <tr>\n",
       "      <th>2</th>\n",
       "      <td>0.011572</td>\n",
       "      <td>0.595180</td>\n",
       "      <td>0.212889</td>\n",
       "      <td>0.125797</td>\n",
       "      <td>0.679529</td>\n",
       "    </tr>\n",
       "    <tr>\n",
       "      <th>3</th>\n",
       "      <td>0.585348</td>\n",
       "      <td>0.555368</td>\n",
       "      <td>0.384845</td>\n",
       "      <td>0.248069</td>\n",
       "      <td>0.051442</td>\n",
       "    </tr>\n",
       "    <tr>\n",
       "      <th>4</th>\n",
       "      <td>0.336254</td>\n",
       "      <td>0.781756</td>\n",
       "      <td>0.709432</td>\n",
       "      <td>0.042076</td>\n",
       "      <td>0.012922</td>\n",
       "    </tr>\n",
       "  </tbody>\n",
       "</table>\n",
       "</div>"
      ],
      "text/plain": [
       "          0         1         2         3         4\n",
       "0  0.677075  0.626850  0.231733  0.821484  0.610713\n",
       "1  0.725046  0.673966  0.300080  0.081244  0.533760\n",
       "2  0.011572  0.595180  0.212889  0.125797  0.679529\n",
       "3  0.585348  0.555368  0.384845  0.248069  0.051442\n",
       "4  0.336254  0.781756  0.709432  0.042076  0.012922"
      ]
     },
     "execution_count": 35,
     "metadata": {},
     "output_type": "execute_result"
    }
   ],
   "source": [
    "df = pd.DataFrame(np.random.rand(5,5))\n",
    "df"
   ]
  },
  {
   "cell_type": "code",
   "execution_count": 40,
   "id": "7f1f04e3",
   "metadata": {},
   "outputs": [
    {
     "data": {
      "text/html": [
       "<div>\n",
       "<style scoped>\n",
       "    .dataframe tbody tr th:only-of-type {\n",
       "        vertical-align: middle;\n",
       "    }\n",
       "\n",
       "    .dataframe tbody tr th {\n",
       "        vertical-align: top;\n",
       "    }\n",
       "\n",
       "    .dataframe thead th {\n",
       "        text-align: right;\n",
       "    }\n",
       "</style>\n",
       "<table border=\"1\" class=\"dataframe\">\n",
       "  <thead>\n",
       "    <tr style=\"text-align: right;\">\n",
       "      <th></th>\n",
       "      <th>0</th>\n",
       "      <th>1</th>\n",
       "      <th>2</th>\n",
       "      <th>3</th>\n",
       "      <th>4</th>\n",
       "    </tr>\n",
       "  </thead>\n",
       "  <tbody>\n",
       "    <tr>\n",
       "      <th>0</th>\n",
       "      <td>0.677075</td>\n",
       "      <td>0.626850</td>\n",
       "      <td>0.231733</td>\n",
       "      <td>NaN</td>\n",
       "      <td>0.610713</td>\n",
       "    </tr>\n",
       "    <tr>\n",
       "      <th>1</th>\n",
       "      <td>NaN</td>\n",
       "      <td>0.673966</td>\n",
       "      <td>0.300080</td>\n",
       "      <td>0.081244</td>\n",
       "      <td>0.533760</td>\n",
       "    </tr>\n",
       "    <tr>\n",
       "      <th>2</th>\n",
       "      <td>0.011572</td>\n",
       "      <td>0.595180</td>\n",
       "      <td>0.212889</td>\n",
       "      <td>0.125797</td>\n",
       "      <td>0.679529</td>\n",
       "    </tr>\n",
       "    <tr>\n",
       "      <th>3</th>\n",
       "      <td>0.585348</td>\n",
       "      <td>0.555368</td>\n",
       "      <td>0.384845</td>\n",
       "      <td>0.248069</td>\n",
       "      <td>0.051442</td>\n",
       "    </tr>\n",
       "    <tr>\n",
       "      <th>4</th>\n",
       "      <td>0.336254</td>\n",
       "      <td>NaN</td>\n",
       "      <td>NaN</td>\n",
       "      <td>0.042076</td>\n",
       "      <td>0.012922</td>\n",
       "    </tr>\n",
       "  </tbody>\n",
       "</table>\n",
       "</div>"
      ],
      "text/plain": [
       "          0         1         2         3         4\n",
       "0  0.677075  0.626850  0.231733       NaN  0.610713\n",
       "1       NaN  0.673966  0.300080  0.081244  0.533760\n",
       "2  0.011572  0.595180  0.212889  0.125797  0.679529\n",
       "3  0.585348  0.555368  0.384845  0.248069  0.051442\n",
       "4  0.336254       NaN       NaN  0.042076  0.012922"
      ]
     },
     "execution_count": 40,
     "metadata": {},
     "output_type": "execute_result"
    }
   ],
   "source": [
    "df[df.iloc[0:5] > 0.7] = np.nan\n",
    "values = df.values\n",
    "df"
   ]
  },
  {
   "cell_type": "code",
   "execution_count": 44,
   "id": "ee49fa34",
   "metadata": {},
   "outputs": [
    {
     "data": {
      "text/plain": [
       "array([[0.67707452, 0.62685033, 0.23173284, 0.04207598, 0.61071342],\n",
       "       [0.01157223, 0.67396571, 0.30008043, 0.08124449, 0.53376029],\n",
       "       [0.01157223, 0.59517985, 0.21288869, 0.12579747, 0.67952874],\n",
       "       [0.58534782, 0.55536769, 0.3848451 , 0.24806897, 0.05144184],\n",
       "       [0.33625414, 0.55536769, 0.21288869, 0.04207598, 0.0129223 ]])"
      ]
     },
     "execution_count": 44,
     "metadata": {},
     "output_type": "execute_result"
    }
   ],
   "source": [
    "from numpy import isnan\n",
    "from numpy import nan\n",
    "from sklearn.impute import SimpleImputer\n",
    "imputer = SimpleImputer(missing_values=nan, strategy=\"most_frequent\")\n",
    "transformed_values = imputer.fit_transform(values)\n",
    "transformed_values"
   ]
  },
  {
   "cell_type": "code",
   "execution_count": null,
   "id": "78abba96",
   "metadata": {},
   "outputs": [],
   "source": []
  }
 ],
 "metadata": {
  "kernelspec": {
   "display_name": "Python 3 (ipykernel)",
   "language": "python",
   "name": "python3"
  },
  "language_info": {
   "codemirror_mode": {
    "name": "ipython",
    "version": 3
   },
   "file_extension": ".py",
   "mimetype": "text/x-python",
   "name": "python",
   "nbconvert_exporter": "python",
   "pygments_lexer": "ipython3",
   "version": "3.8.9"
  }
 },
 "nbformat": 4,
 "nbformat_minor": 5
}
