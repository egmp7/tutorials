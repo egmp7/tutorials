{
 "cells": [
  {
   "cell_type": "code",
   "execution_count": 2,
   "id": "45b26f63",
   "metadata": {},
   "outputs": [
    {
     "name": "stdout",
     "output_type": "stream",
     "text": [
      "1\n"
     ]
    }
   ],
   "source": [
    "def A(a,b):\n",
    "    if (a < b):\n",
    "        return a\n",
    "    else:\n",
    "        return A(a - b, b)\n",
    "\n",
    "print(A(25,3))"
   ]
  },
  {
   "cell_type": "code",
   "execution_count": 3,
   "id": "c96ea60d",
   "metadata": {},
   "outputs": [
    {
     "name": "stdout",
     "output_type": "stream",
     "text": [
      "256\n"
     ]
    }
   ],
   "source": [
    "def A(a, b):\n",
    "    if (b == 0):\n",
    "        return 1\n",
    "    else:\n",
    "        return A(a, b - 1) * a\n",
    "print(A(4,4))"
   ]
  },
  {
   "cell_type": "code",
   "execution_count": 13,
   "id": "3152f088",
   "metadata": {},
   "outputs": [
    {
     "name": "stdout",
     "output_type": "stream",
     "text": [
      "4\n"
     ]
    }
   ],
   "source": [
    "def A(a, b):\n",
    "    if (a<2):\n",
    "        return b\n",
    "    else:\n",
    "        return A(a - 1, b + 1)\n",
    "\n",
    "print(A(3,2))"
   ]
  },
  {
   "cell_type": "code",
   "execution_count": 14,
   "id": "8687aa80",
   "metadata": {},
   "outputs": [
    {
     "name": "stdout",
     "output_type": "stream",
     "text": [
      "0\n"
     ]
    }
   ],
   "source": [
    "def F(A,pos):\n",
    "    if(pos<0):\n",
    "        return 0\n",
    "    if(pos==len(A)-1 or pos==0 or A[pos-1]==1 or A[pos+1]==1):\n",
    "        return 0 + F(A,pos-1)\n",
    "    if(A[pos-1]==0 and A[pos+1]==0):\n",
    "        return 1+ F(A,pos-1)\n",
    "    \n",
    "print(F([1,1,1,1,1,1,1,1],7))"
   ]
  },
  {
   "cell_type": "code",
   "execution_count": 21,
   "id": "c1035af8",
   "metadata": {},
   "outputs": [
    {
     "name": "stdout",
     "output_type": "stream",
     "text": [
      "2\n"
     ]
    }
   ],
   "source": [
    "def A(a, b):\n",
    "    if (a < b):\n",
    "        return 0\n",
    "    else:\n",
    "        return A(a-b,b) + 1\n",
    "\n",
    "print(A(5,2))"
   ]
  },
  {
   "cell_type": "code",
   "execution_count": 24,
   "id": "a65eec33",
   "metadata": {},
   "outputs": [
    {
     "name": "stdout",
     "output_type": "stream",
     "text": [
      "3\n"
     ]
    }
   ],
   "source": [
    "data = [[1,3,5,7],[9,23,25,27],[31,33,45,72],[82,83,95,107],[120,150,180,200]]\n",
    "\n",
    "def Search_Matrix(M, low, high, x):\n",
    "    C=4\n",
    "    if(low<=high):\n",
    "        mid=int(low+(high-low)/2)\n",
    "        if((M[mid][0]<=x) and (M[mid][C-1]>=x)):\n",
    "            return mid\n",
    "        else:\n",
    "            if(M[mid][0]>x):\n",
    "                 return Search_Matrix(M,low,mid-1,x)\n",
    "            if(M[mid][C-1]<x):\n",
    "                 return Search_Matrix(M,mid+1,high,x)\n",
    "    else:\n",
    "        return -1 \n",
    "    \n",
    "print(Search_Matrix(data,0,4,90))"
   ]
  },
  {
   "cell_type": "code",
   "execution_count": null,
   "id": "bc15ab6c",
   "metadata": {},
   "outputs": [],
   "source": []
  }
 ],
 "metadata": {
  "kernelspec": {
   "display_name": "Python 3 (ipykernel)",
   "language": "python",
   "name": "python3"
  },
  "language_info": {
   "codemirror_mode": {
    "name": "ipython",
    "version": 3
   },
   "file_extension": ".py",
   "mimetype": "text/x-python",
   "name": "python",
   "nbconvert_exporter": "python",
   "pygments_lexer": "ipython3",
   "version": "3.8.9"
  }
 },
 "nbformat": 4,
 "nbformat_minor": 5
}
