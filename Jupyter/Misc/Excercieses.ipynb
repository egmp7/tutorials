{
 "cells": [
  {
   "cell_type": "code",
   "execution_count": 2,
   "id": "45b26f63",
   "metadata": {},
   "outputs": [
    {
     "name": "stdout",
     "output_type": "stream",
     "text": [
      "1\n"
     ]
    }
   ],
   "source": [
    "def A(a,b):\n",
    "    if (a < b):\n",
    "        return a\n",
    "    else:\n",
    "        return A(a - b, b)\n",
    "\n",
    "print(A(25,3))"
   ]
  },
  {
   "cell_type": "code",
   "execution_count": 3,
   "id": "c96ea60d",
   "metadata": {},
   "outputs": [
    {
     "name": "stdout",
     "output_type": "stream",
     "text": [
      "256\n"
     ]
    }
   ],
   "source": [
    "def A(a, b):\n",
    "    if (b == 0):\n",
    "        return 1\n",
    "    else:\n",
    "        return A(a, b - 1) * a\n",
    "print(A(4,4))"
   ]
  },
  {
   "cell_type": "code",
   "execution_count": 13,
   "id": "3152f088",
   "metadata": {},
   "outputs": [
    {
     "name": "stdout",
     "output_type": "stream",
     "text": [
      "4\n"
     ]
    }
   ],
   "source": [
    "def A(a, b):\n",
    "    if (a<2):\n",
    "        return b\n",
    "    else:\n",
    "        return A(a - 1, b + 1)\n",
    "\n",
    "print(A(3,2))"
   ]
  },
  {
   "cell_type": "code",
   "execution_count": 14,
   "id": "8687aa80",
   "metadata": {},
   "outputs": [
    {
     "name": "stdout",
     "output_type": "stream",
     "text": [
      "0\n"
     ]
    }
   ],
   "source": [
    "def F(A,pos):\n",
    "    if(pos<0):\n",
    "        return 0\n",
    "    if(pos==len(A)-1 or pos==0 or A[pos-1]==1 or A[pos+1]==1):\n",
    "        return 0 + F(A,pos-1)\n",
    "    if(A[pos-1]==0 and A[pos+1]==0):\n",
    "        return 1+ F(A,pos-1)\n",
    "    \n",
    "print(F([1,1,1,1,1,1,1,1],7))"
   ]
  },
  {
   "cell_type": "code",
   "execution_count": 21,
   "id": "c1035af8",
   "metadata": {},
   "outputs": [
    {
     "name": "stdout",
     "output_type": "stream",
     "text": [
      "2\n"
     ]
    }
   ],
   "source": [
    "def A(a, b):\n",
    "    if (a < b):\n",
    "        return 0\n",
    "    else:\n",
    "        return A(a-b,b) + 1\n",
    "\n",
    "print(A(5,2))"
   ]
  },
  {
   "cell_type": "code",
   "execution_count": 24,
   "id": "a65eec33",
   "metadata": {},
   "outputs": [
    {
     "name": "stdout",
     "output_type": "stream",
     "text": [
      "3\n"
     ]
    }
   ],
   "source": [
    "data = [[1,3,5,7],[9,23,25,27],[31,33,45,72],[82,83,95,107],[120,150,180,200]]\n",
    "\n",
    "def Search_Matrix(M, low, high, x):\n",
    "    C=4\n",
    "    if(low<=high):\n",
    "        mid=int(low+(high-low)/2)\n",
    "        if((M[mid][0]<=x) and (M[mid][C-1]>=x)):\n",
    "            return mid\n",
    "        else:\n",
    "            if(M[mid][0]>x):\n",
    "                 return Search_Matrix(M,low,mid-1,x)\n",
    "            if(M[mid][C-1]<x):\n",
    "                 return Search_Matrix(M,mid+1,high,x)\n",
    "    else:\n",
    "        return -1 \n",
    "    \n",
    "print(Search_Matrix(data,0,4,90))"
   ]
  },
  {
   "cell_type": "code",
   "execution_count": 21,
   "id": "bc15ab6c",
   "metadata": {},
   "outputs": [
    {
     "name": "stdout",
     "output_type": "stream",
     "text": [
      "[1, 2, 3, 4, 6]\n"
     ]
    }
   ],
   "source": [
    "def exchange(p1,p2):\n",
    "    temp = A[p1]\n",
    "    A[p1] = A[p2]\n",
    "    A[p2] = temp\n",
    "    \n",
    "def QuickSort( A , low , high ):\n",
    "    if (low < high):\n",
    "        p = partition ( A , low , high )\n",
    "        QuickSort( A , low , p-1 )\n",
    "        QuickSort( A , p+1 , high )\n",
    "\n",
    "\n",
    "\n",
    "\n",
    "def partition ( A, low , high):\n",
    "    i = low\n",
    "    while (low < high):\n",
    "        if (A[low] < A[high]):\n",
    "            exchange (low ,i)\n",
    "            i += 1 \n",
    "        low += 1 \n",
    "    exchange ( high , i)\n",
    "    return i\n",
    "\n",
    "A = [6,3,1,4,2]\n",
    "QuickSort(A ,0,4)\n",
    "print(A)"
   ]
  },
  {
   "cell_type": "code",
   "execution_count": 28,
   "id": "2aea1ee6",
   "metadata": {},
   "outputs": [
    {
     "name": "stdout",
     "output_type": "stream",
     "text": [
      "1 2\n"
     ]
    }
   ],
   "source": [
    "def Merge(A , l , m, h):\n",
    "    arrayLeft = A[l:m+1]\n",
    "    arrayRight = A[m+1:h+1]\n",
    "    for i in range(len(arrayRight)):\n",
    "        for j in range(len(arrayLeft)):\n",
    "            if(arrayRight[i]<arrayLeft[j]):\n",
    "                swap (A , i , j)\n",
    "                print(arrayRight[i] , arrayLeft[j] )\n",
    "            \n",
    "    \n",
    "def\n",
    "    \n",
    "A = [2,1]\n",
    "Merge(A,0,0,1)\n",
    "#print (Merge(A,0,0,1))"
   ]
  },
  {
   "cell_type": "code",
   "execution_count": 32,
   "id": "9938d407",
   "metadata": {},
   "outputs": [
    {
     "name": "stdout",
     "output_type": "stream",
     "text": [
      "[2, 5, 3, 4, 7]\n"
     ]
    }
   ],
   "source": [
    "def hybridSort(A,N):\n",
    "    swapped=1\n",
    "    pos_min=0\n",
    "    \n",
    "    swapped=0\n",
    "    m= pos_min\n",
    "    for i in range (N):\n",
    "        if(A[i+1]<A[m]):\n",
    "            m=i\n",
    "        if (A[i]>A[i+1]):\n",
    "            aux=A[i]\n",
    "            A[i]=A[i+1]\n",
    "            A[i+1]=aux\n",
    "            swapped=1  \n",
    "    aux=A[m]\n",
    "    A[m]=A[pos_min]\n",
    "    A[pos_min]=aux\n",
    "    pos_min=pos_min+1\n",
    "    print (A)\n",
    "    \n",
    "hybridSort([5, 2, 7, 3, 4],4)\n"
   ]
  },
  {
   "cell_type": "code",
   "execution_count": 35,
   "id": "5017ba40",
   "metadata": {},
   "outputs": [
    {
     "name": "stdout",
     "output_type": "stream",
     "text": [
      "1\n"
     ]
    }
   ],
   "source": [
    "def swap(p1,p2):\n",
    "    temp = A[p1]\n",
    "    A[p1] = A[p2]\n",
    "    A[p2] = temp\n",
    "\n",
    "def X(A,low,high):\n",
    "    elem=A[high]\n",
    "    i = low\n",
    "    for j in range(high):  \n",
    "        if (A[j] <= elem):  \n",
    "            swap(i,j)\n",
    "            i = i + 1\n",
    "    swap(high,i)\n",
    "    return i\n",
    "\n",
    "A=[5, 2, 7, 3, 4]\n",
    "print(X(A,0,3))"
   ]
  },
  {
   "cell_type": "code",
   "execution_count": null,
   "id": "377d9058",
   "metadata": {},
   "outputs": [],
   "source": []
  }
 ],
 "metadata": {
  "kernelspec": {
   "display_name": "Python 3 (ipykernel)",
   "language": "python",
   "name": "python3"
  },
  "language_info": {
   "codemirror_mode": {
    "name": "ipython",
    "version": 3
   },
   "file_extension": ".py",
   "mimetype": "text/x-python",
   "name": "python",
   "nbconvert_exporter": "python",
   "pygments_lexer": "ipython3",
   "version": "3.8.9"
  }
 },
 "nbformat": 4,
 "nbformat_minor": 5
}
