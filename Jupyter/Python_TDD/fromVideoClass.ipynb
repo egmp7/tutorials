{
 "cells": [
  {
   "cell_type": "code",
   "execution_count": 21,
   "id": "e9f8f518",
   "metadata": {},
   "outputs": [
    {
     "name": "stderr",
     "output_type": "stream",
     "text": [
      "test_arithmetic_fail (__main__.TestSetForOneModule) ... ok\n",
      "test_arithmetic_pass (__main__.TestSetForOneModule) ... ok\n",
      "test_assert_false (__main__.TestSetForOneModule) ... ok\n",
      "test_assert_is (__main__.TestSetForOneModule) ... ok\n",
      "test_assert_is_in (__main__.TestSetForOneModule) ... ok\n",
      "test_assert_is_instance (__main__.TestSetForOneModule) ... ok\n",
      "test_assert_is_none (__main__.TestSetForOneModule) ... ok\n",
      "test_assert_true (__main__.TestSetForOneModule) ... ok\n",
      "test_integer_and_float (__main__.TestSetForOneModule) ... ok\n",
      "\n",
      "----------------------------------------------------------------------\n",
      "Ran 9 tests in 0.052s\n",
      "\n",
      "OK\n"
     ]
    },
    {
     "data": {
      "text/plain": [
       "<unittest.main.TestProgram at 0x10614b8e0>"
      ]
     },
     "execution_count": 21,
     "metadata": {},
     "output_type": "execute_result"
    }
   ],
   "source": [
    "import unittest\n",
    "\n",
    "def do_not_return():\n",
    "    x = 10\n",
    "\n",
    "class TestSetForOneModule(unittest.TestCase):\n",
    "    \n",
    "    def test_arithmetic_pass(self):\n",
    "        self.assertEqual(2+2,4)\n",
    "    def test_arithmetic_fail(self):\n",
    "        self.assertNotEqual(2+2,3)\n",
    "    def test_integer_and_float(self):\n",
    "        self.assertEqual(4,4.0)\n",
    "    def test_assert_true(self):\n",
    "        self.assertTrue(True)\n",
    "    def test_assert_false(self):\n",
    "        self.assertFalse(False)\n",
    "    def test_assert_is(self):\n",
    "        a = 10\n",
    "        b = a\n",
    "        \n",
    "        self.assertIs(a,b)\n",
    "    def test_assert_is_none(self):\n",
    "        self.assertIsNone(do_not_return())\n",
    "        \n",
    "    def test_assert_is_in(self):\n",
    "        a = [1,2,3,4]\n",
    "        self.assertIn(4,a)\n",
    "        \n",
    "    def test_assert_is_instance(self):\n",
    "        a = [1,2,3,4]\n",
    "        self.assertIsInstance(a,list)\n",
    "    \n",
    "        \n",
    "unittest.main(argv=['ignored','-v'], exit = False)"
   ]
  },
  {
   "cell_type": "code",
   "execution_count": null,
   "id": "0aa7eb1b",
   "metadata": {},
   "outputs": [],
   "source": []
  }
 ],
 "metadata": {
  "kernelspec": {
   "display_name": "Python 3 (ipykernel)",
   "language": "python",
   "name": "python3"
  },
  "language_info": {
   "codemirror_mode": {
    "name": "ipython",
    "version": 3
   },
   "file_extension": ".py",
   "mimetype": "text/x-python",
   "name": "python",
   "nbconvert_exporter": "python",
   "pygments_lexer": "ipython3",
   "version": "3.8.9"
  }
 },
 "nbformat": 4,
 "nbformat_minor": 5
}
