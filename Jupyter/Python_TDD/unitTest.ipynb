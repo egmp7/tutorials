{
 "cells": [
  {
   "cell_type": "code",
   "execution_count": 3,
   "id": "750598d5",
   "metadata": {},
   "outputs": [
    {
     "name": "stderr",
     "output_type": "stream",
     "text": [
      "test_check_is_array (__main__.TestsForSnakeStats) ... ok\n",
      "test_count_three_items (__main__.TestsForSnakeStats) ... ok\n",
      "test_count_two_items (__main__.TestsForSnakeStats) ... ok\n",
      "test_get_median (__main__.TestsForSnakeStats) ... ok\n",
      "test_get_median_from_even (__main__.TestsForSnakeStats) ... ok\n",
      "test_get_median_from_odd (__main__.TestsForSnakeStats) ... ok\n",
      "test_get_min_from_int_and_strings (__main__.TestsForSnakeStats) ... ok\n",
      "test_get_min_from_middle (__main__.TestsForSnakeStats) ... ok\n",
      "test_get_min_from_start (__main__.TestsForSnakeStats) ... ok\n",
      "\n",
      "----------------------------------------------------------------------\n",
      "Ran 9 tests in 0.027s\n",
      "\n",
      "OK\n"
     ]
    },
    {
     "data": {
      "text/plain": [
       "<unittest.main.TestProgram at 0x1030e5e20>"
      ]
     },
     "execution_count": 3,
     "metadata": {},
     "output_type": "execute_result"
    }
   ],
   "source": [
    "import unittest\n",
    "import snakestats\n",
    "\n",
    "class TestsForSnakeStats(unittest.TestCase):\n",
    "    \n",
    "    # Set 1 Count function\n",
    "    \n",
    "    def test_check_is_array(self):\n",
    "        res = snakestats.count([])\n",
    "        self.assertTrue(res >= 0)\n",
    "\n",
    "    def test_count_three_items(self):\n",
    "        res = snakestats.count([1,2,3])\n",
    "        self.assertEqual( res , 3 )\n",
    "        \n",
    "    def test_count_two_items(self):\n",
    "        res = snakestats.count([4,5])\n",
    "        self.assertEqual( res , 2 )\n",
    "        \n",
    "    # Set 2 Get Min function\n",
    "    \n",
    "    def test_get_min_from_start(self):\n",
    "        res = snakestats.getMin([2,3,4,5])\n",
    "        self.assertEqual( res , 2 )\n",
    "        \n",
    "    def test_get_min_from_middle(self):\n",
    "        res = snakestats.getMin([2,3,1,4,5])\n",
    "        self.assertEqual( res , 1 )\n",
    "        \n",
    "    def test_get_min_from_int_and_strings(self):\n",
    "        res = snakestats.getMin([2,\"1\",3,4,5])\n",
    "        self.assertEqual( res , 1 )\n",
    "\n",
    "    # Set 3 Median function\n",
    "    \n",
    "    def test_get_median(self):\n",
    "        res = snakestats.median([1,2,3])\n",
    "        self.assertEqual( res , 2 )\n",
    "        \n",
    "    def test_get_median_from_odd(self):\n",
    "        res = snakestats.median([1,2,3,4,5])\n",
    "        self.assertEqual( res , 3 )\n",
    "        \n",
    "    def test_get_median_from_even(self):\n",
    "        res = snakestats.median([1,2,3,4,5,6])\n",
    "        self.assertEqual( res , (4+3)/2 )\n",
    "\n",
    "unittest.main(argv=['ignored', '-v'], exit=False)"
   ]
  },
  {
   "cell_type": "code",
   "execution_count": null,
   "id": "d15855c1",
   "metadata": {},
   "outputs": [],
   "source": []
  }
 ],
 "metadata": {
  "kernelspec": {
   "display_name": "Python 3 (ipykernel)",
   "language": "python",
   "name": "python3"
  },
  "language_info": {
   "codemirror_mode": {
    "name": "ipython",
    "version": 3
   },
   "file_extension": ".py",
   "mimetype": "text/x-python",
   "name": "python",
   "nbconvert_exporter": "python",
   "pygments_lexer": "ipython3",
   "version": "3.8.9"
  }
 },
 "nbformat": 4,
 "nbformat_minor": 5
}
