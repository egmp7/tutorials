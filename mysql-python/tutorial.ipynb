{
 "cells": [
  {
   "cell_type": "code",
   "execution_count": 1,
   "id": "ca2794e5",
   "metadata": {},
   "outputs": [],
   "source": [
    "#import the mysql connector API\n",
    "import mysql.connector"
   ]
  },
  {
   "cell_type": "code",
   "execution_count": 30,
   "id": "2209ac1e",
   "metadata": {},
   "outputs": [],
   "source": [
    "#store some reusable configuration options\n",
    "#edit these according to your database settings\n",
    "\n",
    "config = {\n",
    "    'user'      :    'root',\n",
    "    'password'  :    'password',\n",
    "    'host'      :    'localhost',\n",
    "    'database'  :    'danfit',\n",
    "}"
   ]
  },
  {
   "cell_type": "code",
   "execution_count": 31,
   "id": "eed2be9a",
   "metadata": {},
   "outputs": [],
   "source": [
    "from mysql.connector import errorcode\n",
    "\n",
    "def connect (config):\n",
    "    try:\n",
    "        cnx = mysql.connector.connect(**config)\n",
    "        print(\"Connected to {} database as {}\".format(config['database'],config['user']))\n",
    "        return cnx\n",
    "    \n",
    "    except mysql.connector.Error as err: \n",
    "        if err.errno == errorcode.ER_ACCESS_DENIED_ERROR:\n",
    "            print(\"Something is wrong with.\")\n",
    "        elif err.errno == errorcode.ER_BAD_DB_ERROR:\n",
    "            print(\"This database does not exist\")\n",
    "        else:\n",
    "            print(err)\n",
    "    else:\n",
    "        cnx.close()"
   ]
  },
  {
   "cell_type": "code",
   "execution_count": 32,
   "id": "28551e1f",
   "metadata": {},
   "outputs": [
    {
     "name": "stdout",
     "output_type": "stream",
     "text": [
      "Connected to danfit database as root\n"
     ]
    }
   ],
   "source": [
    "cnx = connect(config)"
   ]
  },
  {
   "cell_type": "code",
   "execution_count": 33,
   "id": "38ee20d6",
   "metadata": {},
   "outputs": [
    {
     "name": "stdout",
     "output_type": "stream",
     "text": [
      "\n",
      "Querying database....\n",
      "(1, 'Cuerpo Completo', 'Entrenaremos grupos mayores de los músculos, este entrenamiento te permitirá ponerte en forma en los próximos 10 días y estarás listo para entrenamientos más demandantes. Vamos!', 1, 1, 1, datetime.datetime(2019, 8, 26, 12, 13), datetime.datetime(2019, 9, 5, 11, 37, 11), 'Calentamiento,4,i 4 Sets | 10 Reps,8,i 4 Sets | 10 Reps,3,i 4 Sets | 10 Reps,2,i 4 Sets | 10 Reps,Bloque 1,4,i 4 Sets | 15 Reps,8,i 4 Sets | 15 Reps,o 7,i 4 Sets | 15 Reps,3,i 4 Sets | 15 Reps,2,i 4 Sets | 15 Reps,Bloque 2,5,i 4 Sets | 15 Reps,o 6,i 4 Sets | 15 Reps,14,i 4 Sets | 15 Reps,1,i 4 Sets | 15 Reps,9,i 4 Sets | 15 Reps,Cardio,27,i 20 Minutos')\n",
      "(2, 'Piernas 1', 'Esta es una rutina inicial para fortalecer piernas ', 1, 1, 2, datetime.datetime(2019, 9, 5, 11, 33, 44), datetime.datetime(2019, 9, 5, 11, 33, 44), 'Calentamiento,11,i 30 Reps | 2 Sets (Poco Peso),15,i 30 Reps | 2 Sets (Poco Peso),Bloque 1,11,i 15 Reps | 4 Sets,15,i 15 Reps | 4 Sets,16,i 10 Reps | 4 Sets,12,i 15 Reps | 4 Sets,Pantorrillas,13,i 10 Reps Cada Variación | 4 Sets')\n",
      "(3, 'Abdomen Mujeres', 'Vamos a fortalecer los músculos de la zona abdominal, así como también quemaremos calorías para reducir esa grasa que no queremos.', 1, 1, 3, datetime.datetime(2019, 9, 5, 11, 55, 21), datetime.datetime(2019, 9, 5, 11, 55, 21), 'Bloque 1,19,i 30 Segundos,20,i 30 Segundos,23,i 30 Segundos, Bloque 2,19,i 30 Segundos,20,i 30 Segundos,23,i 30 Segundos,Bloque 3,19,i 45 Segundos,20,i 45 Segundos,23,i 45 Segundos')\n",
      "(4, 'Abdomen Hombres', 'Vamos a fortalecer los músculos de la zona abdominal, así como también quemaremos calorías para reducir esa grasa que no queremos.', 1, 1, 4, datetime.datetime(2019, 9, 5, 12, 37, 23), datetime.datetime(2019, 9, 5, 12, 37, 23), 'Bloque 1,21,i 30 Segundos,23,i 30 Segundos')\n",
      "(5, 'Pecho', 'Trabajaremos los músculos de la zona pectoral aplicando ejercicios de fuerza. Fortaleceremos el busto en mujeres | Obtendrás un aspecto más musculoso en la zona pectoral en hombres', 1, 1, 5, datetime.datetime(2019, 9, 5, 12, 50, 18), datetime.datetime(2019, 9, 5, 12, 50, 18), 'Calentamiento\\r\\n,4\\r\\n,i 20 Reps | 2 Sets\\r\\n,2\\r\\n,i 20 Reps | 2 Sets\\r\\n,Bloque 1\\r\\n,26\\r\\n,i 10 Reps | 4 Sets\\r\\n,24\\r\\n,i 10 Reps | 4 Sets\\r\\n,Bloque 2\\r\\n,17\\r\\n,i 10 Reps | 4 Sets\\r\\n,25\\r\\n,i 10 Reps | 4 Sets\\r\\n,22\\r\\n,i Llega al fallo \\r\\n')\n"
     ]
    }
   ],
   "source": [
    "if cnx:\n",
    "    cursor = cnx.cursor()\n",
    "    \n",
    "    print(\"\\nQuerying database....\")\n",
    "    \n",
    "    query = (\"Select * from workouts\")\n",
    "    \n",
    "    cursor.execute(query)\n",
    "    for entry in cursor:\n",
    "        print(\"{}\".format(entry))"
   ]
  },
  {
   "cell_type": "code",
   "execution_count": null,
   "id": "70987a64",
   "metadata": {},
   "outputs": [],
   "source": [
    "sql = (\"INSERT INTO workouts\"\n",
    "\n",
    "        )"
   ]
  }
 ],
 "metadata": {
  "kernelspec": {
   "display_name": "Python 3 (ipykernel)",
   "language": "python",
   "name": "python3"
  },
  "language_info": {
   "codemirror_mode": {
    "name": "ipython",
    "version": 3
   },
   "file_extension": ".py",
   "mimetype": "text/x-python",
   "name": "python",
   "nbconvert_exporter": "python",
   "pygments_lexer": "ipython3",
   "version": "3.10.7"
  }
 },
 "nbformat": 4,
 "nbformat_minor": 5
}
