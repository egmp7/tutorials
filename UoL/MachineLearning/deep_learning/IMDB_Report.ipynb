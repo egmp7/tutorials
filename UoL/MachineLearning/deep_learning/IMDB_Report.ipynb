{
 "cells": [
  {
   "cell_type": "markdown",
   "metadata": {},
   "source": [
    "# IMDB Deep learning"
   ]
  },
  {
   "cell_type": "markdown",
   "metadata": {},
   "source": [
    "## Table Of Contents:\n",
    "[Introduction](#intro)\n",
    "\n",
    "1. [Defining the problem and assembling a dataset](#wf-1)\n",
    "2. [Choosing a measure of success](#wf-2)\n",
    "3. [Deciding on an evaluation protocol](#wf-3)\n",
    "4. [Preparing your data](#wf-4)\n",
    "5. [Developing a model that does better than a baseline](#wf-5)\n",
    "6. [Scaling up: developing a model that overfits](#wf-6)\n",
    "7. [Regularizing your model and tuning your hyperparameters](#wf-5)\n",
    "\n",
    "[Modular Code](#mc)\n",
    "1. [Decode a review](#mc-1)\n",
    "2. [Vectorize Sequences](#mc-2)\n",
    "3. [Plot Training and validation loss ](#mc-3)\n",
    "4. [Plot Training and validation accuracy ](#mc-4)"
   ]
  },
  {
   "cell_type": "markdown",
   "metadata": {},
   "source": [
    "## Introduction <a class=\"anchor\" id=\"intro\"></a>\n",
    "\n",
    "The IMDB dataset, a publicly available collection of movie reviews, has been extensively utilized in machine learning research endeavors. In line with this tradition, this report will delve into the methodologies and analyses required to construct a deep learning algorithm. Drawing inspiration from the workflow outlined in the book \"Deep Learning with Python,\" this report will navigate through the intricacies of algorithm creation, optimization techniques, and exploration of various hyperparameters. Subsequently, a thorough examination of the obtained results will be conducted, shedding light on the strengths and weaknesses inherent in this workflow."
   ]
  },
  {
   "cell_type": "markdown",
   "metadata": {},
   "source": [
    "## 1 Defining the problem and assembling a dataset <a class=\"anchor\" id=\"wf-1\"></a>\n",
    "\n",
    "This report aims to develop a deep neural network designed to classify the sentiment of movie reviews as either positive or negative, thus framing the problem as a binary classification task. The IMDB dataset is chosen as an ideal candidate for this study due to its comprehensive collection of 50,000 movie reviews. The dataset is readily available within the Keras framework, and the `load_data(num_words=testSampleSize)` method simplifies the preprocessing of the dataset by performing the following steps:\n",
    "\n",
    "- Each review is represented as a sequence of word indices, where each word in the review is mapped to a unique integer index.\n",
    "\n",
    "- The most frequently occurring words are selected to create a vocabulary of a specified size. Words outside this vocabulary are discarded or replaced with a special token.\n",
    "\n",
    "- We specify `num_words=10000` to limit the vocabulary size to the 10,000 most frequently occurring words in the dataset.\n",
    "\n",
    "- The dataset is split into training and testing sets. By default, the split ratio is 50% for training and 50% for testing.\n",
    "\n",
    "- The sentiment labels associated with each review are encoded as integers: 0 for negative reviews and 1 for positive reviews.\n",
    "\n",
    "- The function returns two tuples:\n",
    "\n",
    "    - `(train_data, train_labels)`: Training data and labels, shape Vector.\n",
    "    - `(test_data, test_labels)`: Testing data and labels, shape Vector.\n",
    "\n",
    "### Importing the dataset"
   ]
  },
  {
   "cell_type": "code",
   "execution_count": 1,
   "metadata": {
    "scrolled": true
   },
   "outputs": [
    {
     "name": "stdout",
     "output_type": "stream",
     "text": [
      "Downloading data from https://storage.googleapis.com/tensorflow/tf-keras-datasets/imdb.npz\n",
      "17465344/17464789 [==============================] - 0s 0us/step\n"
     ]
    }
   ],
   "source": [
    "# Import IMDB from Keras\n",
    "from tensorflow.keras.datasets import imdb\n",
    "\n",
    "# Load the IMDB dataset\n",
    "(train_data, train_labels), (test_data, test_labels) = imdb.load_data(num_words=10000)"
   ]
  },
  {
   "cell_type": "markdown",
   "metadata": {},
   "source": [
    "### Visualizing the dataset"
   ]
  },
  {
   "cell_type": "code",
   "execution_count": 16,
   "metadata": {},
   "outputs": [
    {
     "name": "stdout",
     "output_type": "stream",
     "text": [
      "Training data shape: (25000,)\n",
      "Training labels shape: (25000,)\n",
      "Testing data shape: (25000,)\n",
      "Testing labels shape: (25000,)\n",
      "\n",
      "Sample review: [1, 14, 22, 16, 43, 530, 973, 1622, 1385, 65, 458, 4468, 66, 3941, 4, 173, 36, 256, 5, 25, 100, 43, 838, 112, 50, 670, 2, 9, 35, 480, 284, 5, 150, 4, 172, 112, 167, 2, 336, 385, 39, 4, 172, 4536, 1111, 17, 546, 38, 13, 447, 4, 192, 50, 16, 6, 147, 2025, 19, 14, 22, 4, 1920, 4613, 469, 4, 22, 71, 87, 12, 16, 43, 530, 38, 76, 15, 13, 1247, 4, 22, 17, 515, 17, 12, 16, 626, 18, 2, 5, 62, 386, 12, 8, 316, 8, 106, 5, 4, 2223, 5244, 16, 480, 66, 3785, 33, 4, 130, 12, 16, 38, 619, 5, 25, 124, 51, 36, 135, 48, 25, 1415, 33, 6, 22, 12, 215, 28, 77, 52, 5, 14, 407, 16, 82, 2, 8, 4, 107, 117, 5952, 15, 256, 4, 2, 7, 3766, 5, 723, 36, 71, 43, 530, 476, 26, 400, 317, 46, 7, 4, 2, 1029, 13, 104, 88, 4, 381, 15, 297, 98, 32, 2071, 56, 26, 141, 6, 194, 7486, 18, 4, 226, 22, 21, 134, 476, 26, 480, 5, 144, 30, 5535, 18, 51, 36, 28, 224, 92, 25, 104, 4, 226, 65, 16, 38, 1334, 88, 12, 16, 283, 5, 16, 4472, 113, 103, 32, 15, 16, 5345, 19, 178, 32]\n",
      "\n",
      "Sample english review: ? this film was just brilliant casting location scenery story direction everyone's really suited the part they played and you could just imagine being there robert ? is an amazing actor and now the same being director ? father came from the same scottish island as myself so i loved the fact there was a real connection with this film the witty remarks throughout the film were great it was just brilliant so much that i bought the film as soon as it was released for ? and would recommend it to everyone to watch and the fly fishing was amazing really cried at the end it was so sad and you know what they say if you cry at a film it must have been good and this definitely was also ? to the two little boy's that played the ? of norman and paul they were just brilliant children are often left out of the ? list i think because the stars that play them all grown up are such a big profile for the whole film but these children are amazing and should be praised for what they have done don't you think the whole story was so lovely because it was true and was someone's life after all that was shared with us all\n",
      "\n",
      "Sample label: 1\n"
     ]
    }
   ],
   "source": [
    "# Display the shape of the training and testing datasets\n",
    "print(\"Training data shape:\", train_data.shape)\n",
    "print(\"Training labels shape:\", train_labels.shape)\n",
    "print(\"Testing data shape:\", test_data.shape)\n",
    "print(\"Testing labels shape:\", test_labels.shape)\n",
    "\n",
    "# Display a sample review and its corresponding label\n",
    "print(\"\\nSample review:\", train_data[0])  # The review is represented as a list of word indices\n",
    "print(\"\\nSample english review:\", decode_review(train_data[0]))\n",
    "print(\"\\nSample label:\", train_labels[0])  # 0 indicates a negative review, 1 indicates a positive review"
   ]
  },
  {
   "cell_type": "markdown",
   "metadata": {},
   "source": [
    "## 2 Choosing a measure of success <a class=\"anchor\" id=\"wf-2\"></a>\n",
    "\n",
    "TO DO: Why choose Accuary, \n",
    "\n",
    "For the IMDB dataset, where the task is binary classification of movie reviews as either positive or negative sentiment, several measures of success can be considered:\n",
    "\n",
    "1. **Accuracy**: This measures the proportion of correctly classified reviews (both positive and negative) out of the total number of reviews.\n",
    "\n",
    "2. **Precision and Recall**: These measures are useful when dealing with imbalanced datasets. Precision measures the proportion of correctly predicted positive reviews out of all predicted positive reviews, while recall measures the proportion of correctly predicted positive reviews out of all actual positive reviews.\n",
    "\n",
    "3. **Area Under the Receiver Operating Characteristic Curve (ROC AUC)**: This metric is suitable for balanced-classification problems and evaluates the model's ability to discriminate between positive and negative reviews across different thresholds.\n",
    "\n",
    "4. **F1-Score**: This is the harmonic mean of precision and recall and is useful when you want to balance precision and recall.\n",
    "\n",
    "The choice of measure depends on your specific objectives and priorities. If you aim to have a balanced prediction performance across both positive and negative reviews, accuracy or F1-score might be suitable. If the dataset is imbalanced, precision and recall could provide a better assessment of model performance. If you are interested in the model's ability to rank reviews based on sentiment, mean average precision could be considered.\n"
   ]
  },
  {
   "cell_type": "markdown",
   "metadata": {},
   "source": [
    "## 3 Deciding on an evaluation protocol <a class=\"anchor\" id=\"wf-3\"></a>\n",
    "\n",
    "For the IMDB dataset, which contains a substantial amount of data (50,000 movie reviews), maintaining a hold-out validation set would be an appropriate evaluation protocol. This approach involves splitting the dataset into a training set and a validation set, with the training set used to train the model and the validation set used to evaluate its performance.\n",
    "\n",
    "Since the dataset is sufficiently large, this protocol allows for reliable evaluation without the need for more computationally expensive techniques like K-fold cross-validation or iterated K-fold validation. Therefore, maintaining a hold-out validation set would be a practical and effective choice for evaluating models trained on the IMDB dataset."
   ]
  },
  {
   "cell_type": "markdown",
   "metadata": {},
   "source": [
    "## 4 Preparing your data <a class=\"anchor\" id=\"wf-4\"></a>\n",
    "\n",
    "In preparation for training a deep neural network, the data undergoes formatting to ensure compatibility with the model architecture. This involves transforming the raw data into a structured format known as a Tensor, which serves as the fundamental data structure for input into neural networks. Since we are planning to utilize a Dense layer in our neural network, it requires input data in the form of a two-dimensional matrix, also known as a tensor of rank two. However, our initial data is in the form of a one-dimensional array, often referred to as a vector. Consequently, we must transform the vector into a two-dimensional array to meet the input requirements of the Dense layer. This formatting step ensures that the data is properly organized and ready for further processing and training within the neural network model.\n",
    "\n",
    "There are two approaches when preprocessing sentiment data. The first involves padding lists, where every review is standardized to a fixed length by adding zeros. The second approach is one-hot encoding, where each review is represented as an array of zeros and ones, with each index corresponding to a specific word in the vocabulary. In this report, one-hot encoding will be utilized as the data representation method for several reasons:\n",
    "\n",
    "1. **Sparse Representation**: One-hot encoding represents each word as a binary vector with a single '1' and many '0's. This sparse representation is memory efficient, especially when dealing with large vocabularies, as it only requires storage for the active indices.\n",
    "\n",
    "2. **Independence of Word Indices**: One-hot encoding treats each word index as independent of others. This independence can be beneficial when modeling semantic relationships between words is not a priority for the task at hand. For example, in sentiment analysis, the presence of specific words rather than their relationships may be more important.\n",
    "\n",
    "3. **Compatibility with Dense Layer**: One-hot encoded vectors can be directly fed into a Dense layer, which is a common choice for the initial layer in neural networks. Dense layers are capable of handling floating-point vector data, making them compatible with one-hot encoded input.\n",
    "\n",
    "4. **Ease of Implementation**: One-hot encoding is straightforward to implement and widely supported by machine learning libraries, including TensorFlow and Keras. It does not require additional preprocessing steps beyond converting word indices to binary vectors.\n",
    "\n",
    "5. **Applicability to Text Classification Tasks**: For tasks such as text classification, where the goal is to predict a single label or category for each input, one-hot encoding is a suitable choice. It provides a clear representation of input data that can be easily interpreted by the model.\n",
    "\n",
    "In addition to its structure, every neural network model requires input data to consist solely of numerical values within the range of zero to one. Normalization serves as the essential process for achieving this, as it transforms and scales the data to fit within this desired range. In this context, one hot encoding effectively incorporates the normalization step into the data preprocessing pipeline. Consequently, additional preprocessing steps are not required. By employing one hot encoding, we seamlessly integrate normalization into the data preparation process, ensuring that the input data adheres to the neural network model's requirements without the need for further preprocessing.\n",
    "\n",
    "Once the data has been transformed into a vector shape, it becomes suitable for input into a neural network. In our specific case, both the training and testing data take on a shape of (25000, 10000). This shape can be interpreted as follows: there are 25000 reviews in total, and each review is represented as a vector of 10000 entries consisting of zeros and ones. Each entry corresponds to a word in a predefined dictionary. In the subsequent section, I will develop a basic model designed to surpass the initial level of statistical power.\n",
    "\n",
    "### Preprocess"
   ]
  },
  {
   "cell_type": "code",
   "execution_count": 4,
   "metadata": {},
   "outputs": [],
   "source": [
    "import numpy as np\n",
    "\n",
    "x_train = vectorize_sequences(train_data)\n",
    "x_test = vectorize_sequences(test_data)\n",
    "\n",
    "y_train = np.asarray(train_labels).astype('float32')\n",
    "y_test = np.asarray(test_labels).astype('float32')"
   ]
  },
  {
   "cell_type": "markdown",
   "metadata": {},
   "source": [
    "### Visualizing the Preprocessing"
   ]
  },
  {
   "cell_type": "code",
   "execution_count": 18,
   "metadata": {},
   "outputs": [
    {
     "name": "stdout",
     "output_type": "stream",
     "text": [
      "Training data rank: 2\n",
      "Testing data rank: 2\n",
      "Training labels rank: 1\n",
      "Testing labels rank: 1\n",
      "\n",
      "Training data shape: (25000, 10000)\n",
      "Testing data shape: (25000, 10000)\n",
      "Training labels shape: (25000,)\n",
      "Testing labels shape: (25000,)\n",
      "\n",
      "Training sample: [0. 1. 1. ... 0. 0. 0.]\n",
      "Testing sample: [0. 1. 1. ... 0. 0. 0.]\n",
      "Training label: 1.0\n",
      "Testing label: 0.0\n"
     ]
    }
   ],
   "source": [
    "# Display the shape of the training and testing datasets\n",
    "print(\"Training data rank:\", x_train.ndim)\n",
    "print(\"Testing data rank:\", x_test.ndim)\n",
    "print(\"Training labels rank:\", y_train.ndim)\n",
    "print(\"Testing labels rank:\", y_test.ndim)\n",
    "print(\"\\nTraining data shape:\", x_train.shape)\n",
    "print(\"Testing data shape:\", x_test.shape)\n",
    "print(\"Training labels shape:\", y_train.shape)\n",
    "print(\"Testing labels shape:\", y_test.shape)\n",
    "print(\"\\nTraining sample:\", x_train[0])\n",
    "print(\"Testing sample:\", x_test[0])\n",
    "print(\"Training label:\", y_train[0])\n",
    "print(\"Testing label:\", y_test[0])"
   ]
  },
  {
   "cell_type": "markdown",
   "metadata": {},
   "source": [
    "## 5 Developing a model that does better than a baseline <a class=\"anchor\" id=\"wf-5\"></a>\n",
    "\n",
    "In developing a model that outperforms a baseline, several key considerations come into play. First and foremost, achieving statistical power is essential, especially when dealing with classification tasks like the IMDB example, where anything above an accuracy of 0.5 indicates an improvement over random guessing. This underscores the hypothesis that the model's outputs can indeed be predicted based on the inputs provided, and that the available data contains sufficient information to learn the underlying relationship between inputs and outputs. Therefore, the base model will follow the following key choices:\n",
    "\n",
    "**Last Layer activation** For the baseline, I've opted for the hyperparameters recommended by the Deep Learning with Python (DLWP) book, which include using the `sigmoid` function as the activation function for the final layer. Employing the sigmoid function is appropriate in this scenario because it yields the probability of each sample. This choice aligns with the goal of the example and facilitates the interpretation of the model's predictions in terms of probabilities.\n",
    "\n",
    "**Loss Function** The selection of a suitable loss function that corresponds to the problem type is crucial. In the context of IMDB classification, `binary_crossentropy` was chosen due to its effectiveness in scenarios where the objective is to discern between two classes, typically represented by the probabilities ranging from 0 to 1. Conversely, regression tasks often utilize the mean squared error (MSE) loss function, particularly when the goal is to predict continuous values. It's important to tailor the choice of loss function to the specific requirements and characteristics of the problem at hand to optimize model performance effectively.\n",
    "\n",
    "**Optimization configuration** Optimizing the model's configuration involves decisions regarding the choice of optimizer, such as `rmsprop`, and tuning its learning rate, with default values often serving as a reliable starting point for experimentation and refinement."
   ]
  },
  {
   "cell_type": "markdown",
   "metadata": {},
   "source": [
    "### Baseline Model"
   ]
  },
  {
   "cell_type": "code",
   "execution_count": 20,
   "metadata": {},
   "outputs": [
    {
     "name": "stdout",
     "output_type": "stream",
     "text": [
      "49/49 [==============================] - 5s 102ms/step - loss: 0.4600 - accuracy: 0.8269\n"
     ]
    }
   ],
   "source": [
    "# model\n",
    "model = models.Sequential()\n",
    "model.add(layers.Dense(16, activation = 'relu', input_shape = (10000,)))\n",
    "model.add(layers.Dense(1, activation = 'sigmoid'))\n",
    "model.compile(optimizer='rmsprop',\n",
    "             loss='binary_crossentropy',\n",
    "             metrics=['accuracy'])\n",
    "\n",
    "# train\n",
    "history = model.fit(x_train,\n",
    "                    y_train,\n",
    "                    batch_size = 512) "
   ]
  },
  {
   "cell_type": "markdown",
   "metadata": {},
   "source": [
    "### Evaluation of the testing data with the baseline model"
   ]
  },
  {
   "cell_type": "code",
   "execution_count": 22,
   "metadata": {},
   "outputs": [
    {
     "name": "stdout",
     "output_type": "stream",
     "text": [
      "782/782 [==============================] - 13s 16ms/step - loss: 0.3654 - accuracy: 0.8647\n"
     ]
    }
   ],
   "source": [
    "# evaluate on the test set\n",
    "test_loss, test_acc = model.evaluate(x_test, y_test)"
   ]
  },
  {
   "cell_type": "markdown",
   "metadata": {},
   "source": [
    "### Results\n",
    "\n",
    "Having achieved statistical power by surpassing a threshold of 0.5 with an accuacy of 0.8647, we confirm that our model performance exceeds a random baseline, validating the predictive capabilities of the IMDB dataset. However, our journey doesn't end here; there is still room for refinement and optimization to unlock the full potential of our model. It is noteworthy that our model's accuracy improves even further when presented with new, unseen data, highlighting its robustness and generalization capabilities. This underscores the importance of ongoing model adjustments and enhancements to maximize its effectiveness in real-world scenarios.\n"
   ]
  },
  {
   "cell_type": "markdown",
   "metadata": {},
   "source": [
    "\n",
    "## 6 Scaling up: developing a model that overfits <a class=\"anchor\" id=\"wf-6\"></a>"
   ]
  },
  {
   "cell_type": "markdown",
   "metadata": {},
   "source": [
    "### Model 1"
   ]
  },
  {
   "cell_type": "code",
   "execution_count": 16,
   "metadata": {},
   "outputs": [
    {
     "name": "stdout",
     "output_type": "stream",
     "text": [
      "Epoch 1/20\n",
      "30/30 [==============================] - 9s 283ms/step - loss: 0.5379 - accuracy: 0.7883 - val_loss: 0.4091 - val_accuracy: 0.8676\n",
      "Epoch 2/20\n",
      "30/30 [==============================] - 7s 227ms/step - loss: 0.3244 - accuracy: 0.8973 - val_loss: 0.3161 - val_accuracy: 0.8808\n",
      "Epoch 3/20\n",
      "30/30 [==============================] - 8s 273ms/step - loss: 0.2345 - accuracy: 0.9216 - val_loss: 0.2824 - val_accuracy: 0.8888\n",
      "Epoch 4/20\n",
      "30/30 [==============================] - 6s 206ms/step - loss: 0.1820 - accuracy: 0.9425 - val_loss: 0.2782 - val_accuracy: 0.8894\n",
      "Epoch 5/20\n",
      "30/30 [==============================] - 6s 190ms/step - loss: 0.1470 - accuracy: 0.9522 - val_loss: 0.2787 - val_accuracy: 0.8884\n",
      "Epoch 6/20\n",
      "30/30 [==============================] - 6s 193ms/step - loss: 0.1197 - accuracy: 0.9627 - val_loss: 0.2909 - val_accuracy: 0.8858\n",
      "Epoch 7/20\n",
      "30/30 [==============================] - 6s 204ms/step - loss: 0.1018 - accuracy: 0.9694 - val_loss: 0.3057 - val_accuracy: 0.8837\n",
      "Epoch 8/20\n",
      "30/30 [==============================] - 6s 210ms/step - loss: 0.0812 - accuracy: 0.9779 - val_loss: 0.3416 - val_accuracy: 0.8765\n",
      "Epoch 9/20\n",
      "30/30 [==============================] - 6s 200ms/step - loss: 0.0658 - accuracy: 0.9825 - val_loss: 0.3479 - val_accuracy: 0.8825\n",
      "Epoch 10/20\n",
      "30/30 [==============================] - 6s 183ms/step - loss: 0.0570 - accuracy: 0.9848 - val_loss: 0.3736 - val_accuracy: 0.8814\n",
      "Epoch 11/20\n",
      "30/30 [==============================] - 6s 183ms/step - loss: 0.0415 - accuracy: 0.9910 - val_loss: 0.3979 - val_accuracy: 0.8793\n",
      "Epoch 12/20\n",
      "30/30 [==============================] - 6s 187ms/step - loss: 0.0356 - accuracy: 0.9924 - val_loss: 0.4285 - val_accuracy: 0.8771\n",
      "Epoch 13/20\n",
      "30/30 [==============================] - 7s 223ms/step - loss: 0.0268 - accuracy: 0.9947 - val_loss: 0.4559 - val_accuracy: 0.8758\n",
      "Epoch 14/20\n",
      "30/30 [==============================] - 7s 226ms/step - loss: 0.0198 - accuracy: 0.9969 - val_loss: 0.5040 - val_accuracy: 0.8731\n",
      "Epoch 15/20\n",
      "30/30 [==============================] - 6s 207ms/step - loss: 0.0199 - accuracy: 0.9956 - val_loss: 0.5218 - val_accuracy: 0.8738\n",
      "Epoch 16/20\n",
      "30/30 [==============================] - 6s 210ms/step - loss: 0.0096 - accuracy: 0.9993 - val_loss: 0.5539 - val_accuracy: 0.8728\n",
      "Epoch 17/20\n",
      "30/30 [==============================] - 6s 200ms/step - loss: 0.0099 - accuracy: 0.9989 - val_loss: 0.5915 - val_accuracy: 0.8689\n",
      "Epoch 18/20\n",
      "30/30 [==============================] - 6s 216ms/step - loss: 0.0094 - accuracy: 0.9979 - val_loss: 0.6290 - val_accuracy: 0.8707\n",
      "Epoch 19/20\n",
      "30/30 [==============================] - 5s 153ms/step - loss: 0.0037 - accuracy: 0.9998 - val_loss: 0.6550 - val_accuracy: 0.8697\n",
      "Epoch 20/20\n",
      "30/30 [==============================] - 4s 133ms/step - loss: 0.0069 - accuracy: 0.9986 - val_loss: 0.7078 - val_accuracy: 0.8631\n"
     ]
    }
   ],
   "source": [
    "from tensorflow.keras import models\n",
    "from tensorflow.keras import layers\n",
    "\n",
    "model = models.Sequential()\n",
    "model.add(layers.Dense(16, activation = 'relu', input_shape = (10000,)))\n",
    "model.add(layers.Dense(16, activation = 'relu'))\n",
    "model.add(layers.Dense(1, activation = 'sigmoid'))\n",
    "\n",
    "model.compile(optimizer='rmsprop',\n",
    "             loss='binary_crossentropy',\n",
    "             metrics=['accuracy'])\n",
    "\n",
    "# train\n",
    "x_val = x_train[:10000]\n",
    "partial_x_train = x_train[10000:]\n",
    "y_val = y_train[:10000]\n",
    "partial_y_train = y_train[10000:]\n",
    "\n",
    "history = model.fit(partial_x_train, \n",
    "                    partial_y_train,\n",
    "                    epochs = 20,\n",
    "                    batch_size = 512,\n",
    "                    validation_data = (x_val, y_val)) "
   ]
  },
  {
   "cell_type": "code",
   "execution_count": 17,
   "metadata": {},
   "outputs": [
    {
     "name": "stdout",
     "output_type": "stream",
     "text": [
      "782/782 [==============================] - 9s 11ms/step - loss: 0.7958 - accuracy: 0.8469\n"
     ]
    }
   ],
   "source": [
    "# evaluate on the test set\n",
    "test_loss, test_acc = model.evaluate(x_test, y_test)"
   ]
  },
  {
   "cell_type": "code",
   "execution_count": 18,
   "metadata": {},
   "outputs": [
    {
     "data": {
      "text/plain": [
       "dict_keys(['loss', 'accuracy', 'val_loss', 'val_accuracy'])"
      ]
     },
     "execution_count": 18,
     "metadata": {},
     "output_type": "execute_result"
    }
   ],
   "source": [
    "history_dict = history.history\n",
    "history_dict.keys()"
   ]
  },
  {
   "cell_type": "code",
   "execution_count": 19,
   "metadata": {},
   "outputs": [
    {
     "data": {
      "image/png": "[encoded data removed]",
      "text/plain": [
       "<Figure size 432x288 with 1 Axes>"
      ]
     },
     "metadata": {
      "needs_background": "light"
     },
     "output_type": "display_data"
    }
   ],
   "source": [
    "plot_loss()"
   ]
  },
  {
   "cell_type": "code",
   "execution_count": 15,
   "metadata": {},
   "outputs": [
    {
     "data": {
      "image/png": "[encoded data removed]",
      "text/plain": [
       "<Figure size 432x288 with 1 Axes>"
      ]
     },
     "metadata": {
      "needs_background": "light"
     },
     "output_type": "display_data"
    }
   ],
   "source": [
    "plot_accuary()"
   ]
  },
  {
   "cell_type": "markdown",
   "metadata": {},
   "source": [
    "### Model 2"
   ]
  },
  {
   "cell_type": "code",
   "execution_count": 24,
   "metadata": {},
   "outputs": [
    {
     "name": "stdout",
     "output_type": "stream",
     "text": [
      "Epoch 1/20\n",
      "30/30 [==============================] - 8s 280ms/step - loss: 0.4869 - accuracy: 0.7957 - val_loss: 0.3667 - val_accuracy: 0.8764\n",
      "Epoch 2/20\n",
      "30/30 [==============================] - 6s 207ms/step - loss: 0.2957 - accuracy: 0.9075 - val_loss: 0.3054 - val_accuracy: 0.8842\n",
      "Epoch 3/20\n",
      "30/30 [==============================] - 6s 187ms/step - loss: 0.2241 - accuracy: 0.9285 - val_loss: 0.2961 - val_accuracy: 0.8836\n",
      "Epoch 4/20\n",
      "30/30 [==============================] - 6s 207ms/step - loss: 0.1811 - accuracy: 0.9424 - val_loss: 0.2790 - val_accuracy: 0.8871\n",
      "Epoch 5/20\n",
      "30/30 [==============================] - 6s 193ms/step - loss: 0.1535 - accuracy: 0.9519 - val_loss: 0.2739 - val_accuracy: 0.8903\n",
      "Epoch 6/20\n",
      "30/30 [==============================] - 6s 197ms/step - loss: 0.1300 - accuracy: 0.9603 - val_loss: 0.2806 - val_accuracy: 0.8880\n",
      "Epoch 7/20\n",
      "30/30 [==============================] - 6s 193ms/step - loss: 0.1107 - accuracy: 0.9681 - val_loss: 0.2933 - val_accuracy: 0.8838\n",
      "Epoch 8/20\n",
      "30/30 [==============================] - 6s 200ms/step - loss: 0.0943 - accuracy: 0.9749 - val_loss: 0.3231 - val_accuracy: 0.8779\n",
      "Epoch 9/20\n",
      "30/30 [==============================] - 7s 217ms/step - loss: 0.0834 - accuracy: 0.9773 - val_loss: 0.3198 - val_accuracy: 0.8808\n",
      "Epoch 10/20\n",
      "30/30 [==============================] - 6s 194ms/step - loss: 0.0713 - accuracy: 0.9818 - val_loss: 0.3365 - val_accuracy: 0.8803\n",
      "Epoch 11/20\n",
      "30/30 [==============================] - 6s 217ms/step - loss: 0.0630 - accuracy: 0.9850 - val_loss: 0.3551 - val_accuracy: 0.8812\n",
      "Epoch 12/20\n",
      "30/30 [==============================] - 6s 213ms/step - loss: 0.0532 - accuracy: 0.9882 - val_loss: 0.3789 - val_accuracy: 0.8787\n",
      "Epoch 13/20\n",
      "30/30 [==============================] - 6s 193ms/step - loss: 0.0463 - accuracy: 0.9903 - val_loss: 0.4452 - val_accuracy: 0.8621\n",
      "Epoch 14/20\n",
      "30/30 [==============================] - 6s 193ms/step - loss: 0.0396 - accuracy: 0.9926 - val_loss: 0.4102 - val_accuracy: 0.8754\n",
      "Epoch 15/20\n",
      "30/30 [==============================] - 6s 203ms/step - loss: 0.0346 - accuracy: 0.9939 - val_loss: 0.4433 - val_accuracy: 0.8754\n",
      "Epoch 16/20\n",
      "30/30 [==============================] - 6s 190ms/step - loss: 0.0290 - accuracy: 0.9957 - val_loss: 0.4704 - val_accuracy: 0.8671\n",
      "Epoch 17/20\n",
      "30/30 [==============================] - 6s 203ms/step - loss: 0.0249 - accuracy: 0.9958 - val_loss: 0.4829 - val_accuracy: 0.8720\n",
      "Epoch 18/20\n",
      "30/30 [==============================] - 7s 217ms/step - loss: 0.0200 - accuracy: 0.9977 - val_loss: 0.5160 - val_accuracy: 0.8664\n",
      "Epoch 19/20\n",
      "30/30 [==============================] - 6s 183ms/step - loss: 0.0184 - accuracy: 0.9979 - val_loss: 0.5377 - val_accuracy: 0.8687\n",
      "Epoch 20/20\n",
      "30/30 [==============================] - 6s 200ms/step - loss: 0.0147 - accuracy: 0.9989 - val_loss: 0.5711 - val_accuracy: 0.8629\n"
     ]
    }
   ],
   "source": [
    "from tensorflow.keras import models\n",
    "from tensorflow.keras import layers\n",
    "\n",
    "model = models.Sequential()\n",
    "model.add(layers.Dense(32, activation = 'relu', input_shape = (10000,)))\n",
    "model.add(layers.Dense(1, activation = 'sigmoid'))\n",
    "\n",
    "model.compile(optimizer='rmsprop',\n",
    "             loss='binary_crossentropy',\n",
    "             metrics=['accuracy'])\n",
    "\n",
    "# train\n",
    "x_val = x_train[:10000]\n",
    "partial_x_train = x_train[10000:]\n",
    "y_val = y_train[:10000]\n",
    "partial_y_train = y_train[10000:]\n",
    "\n",
    "history = model.fit(partial_x_train, \n",
    "                    partial_y_train,\n",
    "                    epochs = 20,\n",
    "                    batch_size = 512,\n",
    "                    validation_data = (x_val, y_val)) "
   ]
  },
  {
   "cell_type": "code",
   "execution_count": 25,
   "metadata": {},
   "outputs": [
    {
     "name": "stdout",
     "output_type": "stream",
     "text": [
      "782/782 [==============================] - 9s 12ms/step - loss: 0.6280 - accuracy: 0.8474\n"
     ]
    }
   ],
   "source": [
    "# evaluate on the test set\n",
    "test_loss, test_acc = model.evaluate(x_test, y_test)"
   ]
  },
  {
   "cell_type": "code",
   "execution_count": 26,
   "metadata": {},
   "outputs": [
    {
     "data": {
      "text/plain": [
       "dict_keys(['loss', 'accuracy', 'val_loss', 'val_accuracy'])"
      ]
     },
     "execution_count": 26,
     "metadata": {},
     "output_type": "execute_result"
    }
   ],
   "source": [
    "history_dict = history.history\n",
    "history_dict.keys()"
   ]
  },
  {
   "cell_type": "code",
   "execution_count": 32,
   "metadata": {},
   "outputs": [
    {
     "name": "stdout",
     "output_type": "stream",
     "text": [
      "4 epochs\n"
     ]
    }
   ],
   "source": [
    "print(np.argmin(history_dict['val_loss']), \"epochs\")"
   ]
  },
  {
   "cell_type": "code",
   "execution_count": 27,
   "metadata": {},
   "outputs": [
    {
     "data": {
      "image/png": "[encoded data removed]",
      "text/plain": [
       "<Figure size 432x288 with 1 Axes>"
      ]
     },
     "metadata": {
      "needs_background": "light"
     },
     "output_type": "display_data"
    }
   ],
   "source": [
    "plot_loss()"
   ]
  },
  {
   "cell_type": "code",
   "execution_count": 28,
   "metadata": {},
   "outputs": [
    {
     "data": {
      "image/png": "[encoded data removed]",
      "text/plain": [
       "<Figure size 432x288 with 1 Axes>"
      ]
     },
     "metadata": {
      "needs_background": "light"
     },
     "output_type": "display_data"
    }
   ],
   "source": [
    "plot_accuary()"
   ]
  },
  {
   "cell_type": "markdown",
   "metadata": {},
   "source": [
    "## 7 Regularizing your model and tuning your hyperparameters <a class=\"anchor\" id=\"wf-7\"></a>"
   ]
  },
  {
   "cell_type": "code",
   "execution_count": 23,
   "metadata": {},
   "outputs": [
    {
     "name": "stdout",
     "output_type": "stream",
     "text": [
      "Epoch 1/4\n",
      "49/49 [==============================] - 9s 190ms/step - loss: 0.4740 - accuracy: 0.8108\n",
      "Epoch 2/4\n",
      "49/49 [==============================] - 8s 155ms/step - loss: 0.2719 - accuracy: 0.9092\n",
      "Epoch 3/4\n",
      "49/49 [==============================] - 7s 137ms/step - loss: 0.2081 - accuracy: 0.9282\n",
      "Epoch 4/4\n",
      "49/49 [==============================] - 5s 100ms/step - loss: 0.1727 - accuracy: 0.9394\n"
     ]
    },
    {
     "data": {
      "text/plain": [
       "<tensorflow.python.keras.callbacks.History at 0x7f96344e5250>"
      ]
     },
     "execution_count": 23,
     "metadata": {},
     "output_type": "execute_result"
    }
   ],
   "source": [
    "from tensorflow.keras import models\n",
    "from tensorflow.keras import layers\n",
    "\n",
    "model = models.Sequential()\n",
    "model.add(layers.Dense(16, activation='relu', input_shape=(10000,)))\n",
    "model.add(layers.Dense(16, activation='relu'))\n",
    "model.add(layers.Dense(1, activation='sigmoid'))\n",
    "\n",
    "model.compile(optimizer='rmsprop',\n",
    "              loss='binary_crossentropy',\n",
    "              metrics=['accuracy'])\n",
    "\n",
    "model.fit(x_train, y_train, epochs=4, batch_size=512)"
   ]
  },
  {
   "cell_type": "code",
   "execution_count": 21,
   "metadata": {},
   "outputs": [
    {
     "name": "stdout",
     "output_type": "stream",
     "text": [
      "782/782 [==============================] - 9s 12ms/step - loss: 0.3035 - accuracy: 0.8808\n"
     ]
    }
   ],
   "source": [
    "# evaluate on the test set\n",
    "test_loss, test_acc = model.evaluate(x_test, y_test)"
   ]
  },
  {
   "cell_type": "code",
   "execution_count": 31,
   "metadata": {},
   "outputs": [
    {
     "name": "stdout",
     "output_type": "stream",
     "text": [
      "Epoch 1/5\n",
      "49/49 [==============================] - 10s 200ms/step - loss: 0.4279 - accuracy: 0.8306\n",
      "Epoch 2/5\n",
      "49/49 [==============================] - 8s 159ms/step - loss: 0.2551 - accuracy: 0.9120\n",
      "Epoch 3/5\n",
      "49/49 [==============================] - 8s 159ms/step - loss: 0.2028 - accuracy: 0.9290\n",
      "Epoch 4/5\n",
      "49/49 [==============================] - 7s 143ms/step - loss: 0.1724 - accuracy: 0.9392\n",
      "Epoch 5/5\n",
      "49/49 [==============================] - 6s 114ms/step - loss: 0.1515 - accuracy: 0.9474\n"
     ]
    },
    {
     "data": {
      "text/plain": [
       "<tensorflow.python.keras.callbacks.History at 0x7f96334cfa50>"
      ]
     },
     "execution_count": 31,
     "metadata": {},
     "output_type": "execute_result"
    }
   ],
   "source": [
    "from tensorflow.keras import models\n",
    "from tensorflow.keras import layers\n",
    "\n",
    "model = models.Sequential()\n",
    "model.add(layers.Dense(32, activation='relu', input_shape=(10000,)))\n",
    "model.add(layers.Dense(1, activation='sigmoid'))\n",
    "\n",
    "model.compile(optimizer='rmsprop',\n",
    "              loss='binary_crossentropy',\n",
    "              metrics=['accuracy'])\n",
    "\n",
    "model.fit(x_train, y_train, epochs=5, batch_size=512)"
   ]
  },
  {
   "cell_type": "code",
   "execution_count": 30,
   "metadata": {},
   "outputs": [
    {
     "name": "stdout",
     "output_type": "stream",
     "text": [
      "782/782 [==============================] - 9s 12ms/step - loss: 0.3249 - accuracy: 0.8694 1s - loss: 0.3232 - ac\n"
     ]
    }
   ],
   "source": [
    "# evaluate on the test set\n",
    "test_loss, test_acc = model.evaluate(x_test, y_test)"
   ]
  },
  {
   "cell_type": "markdown",
   "metadata": {},
   "source": [
    "\n",
    "\n",
    "\n",
    "\n",
    "## Results\n",
    "\n",
    "## Evaluation\n",
    "\n",
    "## Conclusion"
   ]
  },
  {
   "cell_type": "markdown",
   "metadata": {},
   "source": [
    "## Modular code <a class=\"anchor\" id=\"mc\"></a>"
   ]
  },
  {
   "cell_type": "markdown",
   "metadata": {},
   "source": [
    "### Decode a review <a class=\"anchor\" id=\"mc-1\"></a>"
   ]
  },
  {
   "cell_type": "code",
   "execution_count": 14,
   "metadata": {},
   "outputs": [
    {
     "name": "stdout",
     "output_type": "stream",
     "text": [
      "Downloading data from https://storage.googleapis.com/tensorflow/tf-keras-datasets/imdb_word_index.json\n",
      "1646592/1641221 [==============================] - 0s 0us/step\n"
     ]
    }
   ],
   "source": [
    "# Load the word index mapping\n",
    "word_index = imdb.get_word_index()\n",
    "\n",
    "# Reverse the word index mapping to map integers to words\n",
    "reverse_word_index = dict([(value, key) for (key, value) in word_index.items()])\n",
    "\n",
    "# Decode a review from its list of word indices to text\n",
    "def decode_review(review):\n",
    "    # Decodes the review using the reverse word index mapping\n",
    "    return ' '.join([reverse_word_index.get(i - 3, '?') for i in review])"
   ]
  },
  {
   "cell_type": "markdown",
   "metadata": {},
   "source": [
    "### Vectorize Sequences <a class=\"anchor\" id=\"mc-2\"></a>"
   ]
  },
  {
   "cell_type": "code",
   "execution_count": 3,
   "metadata": {},
   "outputs": [],
   "source": [
    "def vectorize_sequences(sequences, dimension = 10000):\n",
    "    results = np.zeros( (len(sequences), dimension) )\n",
    "    for i, sequence in enumerate(sequences):\n",
    "        results[i, sequence] = 1.\n",
    "    return results"
   ]
  },
  {
   "cell_type": "markdown",
   "metadata": {},
   "source": [
    "### Plot Training and validation loss <a class=\"anchor\" id=\"mc-3\"></a>"
   ]
  },
  {
   "cell_type": "code",
   "execution_count": 12,
   "metadata": {},
   "outputs": [],
   "source": [
    "import matplotlib.pyplot as plt\n",
    "\n",
    "def plot_loss():\n",
    "    loss = history_dict['loss']\n",
    "    val_loss = history_dict['val_loss']\n",
    "\n",
    "    epochs = range(1, len(loss) + 1)\n",
    "\n",
    "    plt.plot(epochs, loss_values, 'bo', label='Training loss')           \n",
    "    plt.plot(epochs, val_loss_values, 'b', label='Validation loss')      \n",
    "    plt.title('Training and validation loss')\n",
    "    plt.xlabel('Epochs')\n",
    "    plt.ylabel('Loss')\n",
    "    plt.legend()\n",
    "\n",
    "    plt.show()"
   ]
  },
  {
   "cell_type": "markdown",
   "metadata": {},
   "source": [
    "### Plot training and validation accuracy <a class=\"anchor\" id=\"mc-4\"></a>"
   ]
  },
  {
   "cell_type": "code",
   "execution_count": 14,
   "metadata": {},
   "outputs": [],
   "source": [
    "import matplotlib.pyplot as plt\n",
    "\n",
    "def plot_accuary():\n",
    "    acc = history_dict['accuracy']\n",
    "    val_acc = history_dict['val_accuracy']\n",
    "\n",
    "    epochs = range(1, len(acc) + 1)\n",
    "\n",
    "    blue_dots = 'bo'\n",
    "    solid_blue_line = 'b'\n",
    "\n",
    "    plt.plot(epochs, acc, blue_dots, label = 'Training acc')\n",
    "    plt.plot(epochs, val_acc, solid_blue_line, label = 'Validation acc')\n",
    "    plt.title('Training and validation acc')\n",
    "    plt.xlabel('Epochs')\n",
    "    plt.ylabel('Accuracy')\n",
    "    plt.legend()\n",
    "\n",
    "    plt.show()"
   ]
  },
  {
   "cell_type": "code",
   "execution_count": null,
   "metadata": {},
   "outputs": [],
   "source": []
  }
 ],
 "metadata": {
  "kernelspec": {
   "display_name": "Python 3",
   "language": "python",
   "name": "python3"
  },
  "language_info": {
   "codemirror_mode": {
    "name": "ipython",
    "version": 3
   },
   "file_extension": ".py",
   "mimetype": "text/x-python",
   "name": "python",
   "nbconvert_exporter": "python",
   "pygments_lexer": "ipython3",
   "version": "3.7.6"
  }
 },
 "nbformat": 4,
 "nbformat_minor": 4
}
