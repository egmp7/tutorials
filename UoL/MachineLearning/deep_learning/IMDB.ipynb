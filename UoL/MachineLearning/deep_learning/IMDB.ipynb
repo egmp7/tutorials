{
 "cells": [
  {
   "cell_type": "markdown",
   "metadata": {},
   "source": [
    "1. Run IMDB\n",
    "- Experiment with one and three hidden layers\n",
    "- Experiment with more or fewer hidden units - 32 units, 64 units etc.\n",
    "- Investigate replacing the `binary_crossentropy` loss function with `mse`\n",
    "- Experiment with replacing `relu` with `tanh` activations\n",
    "- Investigate the effect of different learning rates\n",
    "- Take your best network and train on all the training data for the optimal epochs. Evaluate on the test set"
   ]
  },
  {
   "cell_type": "code",
   "execution_count": 1,
   "metadata": {},
   "outputs": [
    {
     "name": "stdout",
     "output_type": "stream",
     "text": [
      "Epoch 1/20\n",
      "30/30 [==============================] - 12s 387ms/step - loss: 0.5226 - accuracy: 0.7884 - val_loss: 0.3915 - val_accuracy: 0.8643\n",
      "Epoch 2/20\n",
      "30/30 [==============================] - 9s 317ms/step - loss: 0.3091 - accuracy: 0.9003 - val_loss: 0.3052 - val_accuracy: 0.8877\n",
      "Epoch 3/20\n",
      "30/30 [==============================] - 12s 417ms/step - loss: 0.2240 - accuracy: 0.9253 - val_loss: 0.2779 - val_accuracy: 0.8902\n",
      "Epoch 4/20\n",
      "30/30 [==============================] - 12s 407ms/step - loss: 0.1801 - accuracy: 0.9404 - val_loss: 0.2739 - val_accuracy: 0.8899\n",
      "Epoch 5/20\n",
      "30/30 [==============================] - 11s 367ms/step - loss: 0.1464 - accuracy: 0.9529 - val_loss: 0.2783 - val_accuracy: 0.8889\n",
      "Epoch 6/20\n",
      "30/30 [==============================] - 10s 327ms/step - loss: 0.1217 - accuracy: 0.9626 - val_loss: 0.3154 - val_accuracy: 0.8817\n",
      "Epoch 7/20\n",
      "30/30 [==============================] - 9s 297ms/step - loss: 0.1026 - accuracy: 0.9683 - val_loss: 0.3123 - val_accuracy: 0.8841\n",
      "Epoch 8/20\n",
      "30/30 [==============================] - 8s 280ms/step - loss: 0.0857 - accuracy: 0.9745 - val_loss: 0.3268 - val_accuracy: 0.8796\n",
      "Epoch 9/20\n",
      "30/30 [==============================] - 9s 313ms/step - loss: 0.0727 - accuracy: 0.9806 - val_loss: 0.3516 - val_accuracy: 0.8758\n",
      "Epoch 10/20\n",
      "30/30 [==============================] - 11s 373ms/step - loss: 0.0596 - accuracy: 0.9846 - val_loss: 0.3727 - val_accuracy: 0.8762\n",
      "Epoch 11/20\n",
      "30/30 [==============================] - 8s 270ms/step - loss: 0.0496 - accuracy: 0.9877 - val_loss: 0.4010 - val_accuracy: 0.8760\n",
      "Epoch 12/20\n",
      "30/30 [==============================] - 7s 243ms/step - loss: 0.0398 - accuracy: 0.9905 - val_loss: 0.4537 - val_accuracy: 0.8718\n",
      "Epoch 13/20\n",
      "30/30 [==============================] - 7s 220ms/step - loss: 0.0323 - accuracy: 0.9939 - val_loss: 0.4688 - val_accuracy: 0.8737\n",
      "Epoch 14/20\n",
      "30/30 [==============================] - 7s 217ms/step - loss: 0.0259 - accuracy: 0.9951 - val_loss: 0.5051 - val_accuracy: 0.8657\n",
      "Epoch 15/20\n",
      "30/30 [==============================] - 7s 227ms/step - loss: 0.0229 - accuracy: 0.9961 - val_loss: 0.5330 - val_accuracy: 0.8708\n",
      "Epoch 16/20\n",
      "30/30 [==============================] - 7s 247ms/step - loss: 0.0147 - accuracy: 0.9985 - val_loss: 0.6521 - val_accuracy: 0.8503\n",
      "Epoch 17/20\n",
      "30/30 [==============================] - 7s 227ms/step - loss: 0.0124 - accuracy: 0.9990 - val_loss: 0.6874 - val_accuracy: 0.8610\n",
      "Epoch 18/20\n",
      "30/30 [==============================] - 6s 207ms/step - loss: 0.0128 - accuracy: 0.9979 - val_loss: 0.6354 - val_accuracy: 0.8646\n",
      "Epoch 19/20\n",
      "30/30 [==============================] - 4s 137ms/step - loss: 0.0067 - accuracy: 0.9997 - val_loss: 0.7362 - val_accuracy: 0.8613\n",
      "Epoch 20/20\n",
      "30/30 [==============================] - 4s 140ms/step - loss: 0.0093 - accuracy: 0.9983 - val_loss: 0.7159 - val_accuracy: 0.8658\n"
     ]
    }
   ],
   "source": [
    "# IMDB\n",
    "\n",
    "from tensorflow.keras.datasets import imdb\n",
    "import numpy as np\n",
    "\n",
    "def vectorize_sequences(sequences, dimension = 10000):\n",
    "    results = np.zeros( (len(sequences), dimension) )\n",
    "    for i, sequence in enumerate(sequences):\n",
    "        results[i, sequence] = 1.\n",
    "    return results\n",
    "\n",
    "# load\n",
    "((train_data, train_labels), (test_data, test_labels)) = imdb.load_data(num_words = 10000)\n",
    "\n",
    "# preprocess\n",
    "x_train = vectorize_sequences(train_data)\n",
    "x_test = vectorize_sequences(test_data)\n",
    "\n",
    "y_train = np.asarray(train_labels).astype('float32')\n",
    "y_test = np.asarray(test_labels).astype('float32')\n",
    "\n",
    "# build\n",
    "from tensorflow.keras import models\n",
    "from tensorflow.keras import layers\n",
    "model = models.Sequential()\n",
    "model.add(layers.Dense(16, activation = 'relu', input_shape = (10000,)))\n",
    "model.add(layers.Dense(16, activation = 'relu'))\n",
    "model.add(layers.Dense(1, activation = 'sigmoid'))\n",
    "\n",
    "model.compile(optimizer='rmsprop',\n",
    "             loss='binary_crossentropy',\n",
    "             metrics=['accuracy'])\n",
    "\n",
    "# train\n",
    "x_val = x_train[:10000]\n",
    "partial_x_train = x_train[10000:]\n",
    "y_val = y_train[:10000]\n",
    "partial_y_train = y_train[10000:]\n",
    "\n",
    "history = model.fit(partial_x_train, \n",
    "                    partial_y_train,\n",
    "                    epochs = 20,\n",
    "                    batch_size = 512,\n",
    "                    validation_data = (x_val, y_val)) "
   ]
  },
  {
   "cell_type": "code",
   "execution_count": 2,
   "metadata": {},
   "outputs": [
    {
     "data": {
      "text/plain": [
       "dict_keys(['loss', 'accuracy', 'val_loss', 'val_accuracy'])"
      ]
     },
     "execution_count": 2,
     "metadata": {},
     "output_type": "execute_result"
    }
   ],
   "source": [
    "history_dict = history.history\n",
    "history_dict.keys()"
   ]
  },
  {
   "cell_type": "code",
   "execution_count": 3,
   "metadata": {},
   "outputs": [
    {
     "data": {
      "text/plain": [
       "[0.5225852727890015,\n",
       " 0.309116393327713,\n",
       " 0.22403830289840698,\n",
       " 0.18009038269519806,\n",
       " 0.14644011855125427,\n",
       " 0.12174931913614273,\n",
       " 0.1025865375995636,\n",
       " 0.08571416884660721,\n",
       " 0.07273387908935547,\n",
       " 0.059614796191453934,\n",
       " 0.04962066188454628,\n",
       " 0.03984822705388069,\n",
       " 0.0323394276201725,\n",
       " 0.025888923555612564,\n",
       " 0.022947639226913452,\n",
       " 0.014671890996396542,\n",
       " 0.012445741333067417,\n",
       " 0.012816728092730045,\n",
       " 0.006699089426547289,\n",
       " 0.009286549873650074]"
      ]
     },
     "execution_count": 3,
     "metadata": {},
     "output_type": "execute_result"
    }
   ],
   "source": [
    "history_dict['loss']"
   ]
  },
  {
   "cell_type": "code",
   "execution_count": 4,
   "metadata": {},
   "outputs": [
    {
     "data": {
      "image/png": "[encoded data removed]",
      "text/plain": [
       "<Figure size 432x288 with 1 Axes>"
      ]
     },
     "metadata": {
      "needs_background": "light"
     },
     "output_type": "display_data"
    }
   ],
   "source": [
    "import matplotlib.pyplot as plt\n",
    "    \n",
    "loss = history_dict['loss']\n",
    "val_loss = history_dict['val_loss']\n",
    "\n",
    "epochs = range(1, len(loss) + 1)\n",
    "\n",
    "blue_dots = 'bo'\n",
    "solid_blue_line = 'b'\n",
    "\n",
    "plt.plot(epochs, loss, blue_dots, label = 'Training loss')\n",
    "plt.plot(epochs, val_loss, solid_blue_line, label = 'Validation loss')\n",
    "plt.title('Training and validation loss')\n",
    "plt.xlabel('Epochs')\n",
    "plt.ylabel('Loss')\n",
    "plt.legend()\n",
    "\n",
    "plt.show()"
   ]
  },
  {
   "cell_type": "code",
   "execution_count": 5,
   "metadata": {},
   "outputs": [
    {
     "data": {
      "text/plain": [
       "[0.7883999943733215,\n",
       " 0.9003333449363708,\n",
       " 0.925266683101654,\n",
       " 0.9404000043869019,\n",
       " 0.9528666734695435,\n",
       " 0.9625999927520752,\n",
       " 0.9683333039283752,\n",
       " 0.9745333194732666,\n",
       " 0.9805999994277954,\n",
       " 0.9846000075340271,\n",
       " 0.987666666507721,\n",
       " 0.9904666543006897,\n",
       " 0.9939333200454712,\n",
       " 0.9951333403587341,\n",
       " 0.9961333274841309,\n",
       " 0.998533308506012,\n",
       " 0.9990000128746033,\n",
       " 0.997866690158844,\n",
       " 0.9997333288192749,\n",
       " 0.9983333349227905]"
      ]
     },
     "execution_count": 5,
     "metadata": {},
     "output_type": "execute_result"
    }
   ],
   "source": [
    "history_dict['accuracy']"
   ]
  },
  {
   "cell_type": "code",
   "execution_count": 6,
   "metadata": {},
   "outputs": [
    {
     "data": {
      "image/png": "[encoded data removed]",
      "text/plain": [
       "<Figure size 432x288 with 1 Axes>"
      ]
     },
     "metadata": {
      "needs_background": "light"
     },
     "output_type": "display_data"
    }
   ],
   "source": [
    "plt.clf()\n",
    "\n",
    "acc = history_dict['accuracy']\n",
    "val_acc = history_dict['val_accuracy']\n",
    "    \n",
    "epochs = range(1, len(acc) + 1)\n",
    "\n",
    "blue_dots = 'bo'\n",
    "solid_blue_line = 'b'\n",
    "    \n",
    "plt.plot(epochs, acc, blue_dots, label = 'Training acc')\n",
    "plt.plot(epochs, val_acc, solid_blue_line, label = 'Validation acc')\n",
    "plt.title('Training and validation acc')\n",
    "plt.xlabel('Epochs')\n",
    "plt.ylabel('Accuracy')\n",
    "plt.legend()\n",
    "\n",
    "plt.show()"
   ]
  },
  {
   "cell_type": "code",
   "execution_count": null,
   "metadata": {},
   "outputs": [],
   "source": []
  }
 ],
 "metadata": {
  "kernelspec": {
   "display_name": "Python 3",
   "language": "python",
   "name": "python3"
  },
  "language_info": {
   "codemirror_mode": {
    "name": "ipython",
    "version": 3
   },
   "file_extension": ".py",
   "mimetype": "text/x-python",
   "name": "python",
   "nbconvert_exporter": "python",
   "pygments_lexer": "ipython3",
   "version": "3.7.6"
  }
 },
 "nbformat": 4,
 "nbformat_minor": 2
}
