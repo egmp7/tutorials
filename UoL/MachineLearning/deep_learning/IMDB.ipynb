{
 "cells": [
  {
   "cell_type": "markdown",
   "metadata": {},
   "source": [
    "1. Run IMDB\n",
    "- Experiment with one and three hidden layers\n",
    "- Experiment with more or fewer hidden units - 32 units, 64 units etc.\n",
    "- Investigate replacing the `binary_crossentropy` loss function with `mse`\n",
    "- Experiment with replacing `relu` with `tanh` activations\n",
    "- Investigate the effect of different learning rates\n",
    "- Take your best network and train on all the training data for the optimal epochs. Evaluate on the test set"
   ]
  },
  {
   "cell_type": "code",
   "execution_count": 7,
   "metadata": {},
   "outputs": [
    {
     "name": "stdout",
     "output_type": "stream",
     "text": [
      "Epoch 1/20\n",
      "30/30 [==============================] - 9s 310ms/step - loss: 0.5259 - accuracy: 0.7882 - val_loss: 0.3872 - val_accuracy: 0.8739\n",
      "Epoch 2/20\n",
      "30/30 [==============================] - 7s 237ms/step - loss: 0.3026 - accuracy: 0.9049 - val_loss: 0.3308 - val_accuracy: 0.8654\n",
      "Epoch 3/20\n",
      "30/30 [==============================] - 7s 233ms/step - loss: 0.2188 - accuracy: 0.9276 - val_loss: 0.2764 - val_accuracy: 0.8891\n",
      "Epoch 4/20\n",
      "30/30 [==============================] - 8s 257ms/step - loss: 0.1671 - accuracy: 0.9451 - val_loss: 0.2963 - val_accuracy: 0.8831\n",
      "Epoch 5/20\n",
      "30/30 [==============================] - 7s 217ms/step - loss: 0.1316 - accuracy: 0.9576 - val_loss: 0.3190 - val_accuracy: 0.8766\n",
      "Epoch 6/20\n",
      "30/30 [==============================] - 7s 247ms/step - loss: 0.1053 - accuracy: 0.9671 - val_loss: 0.3407 - val_accuracy: 0.8784\n",
      "Epoch 7/20\n",
      "30/30 [==============================] - 15s 517ms/step - loss: 0.0905 - accuracy: 0.9718 - val_loss: 0.3315 - val_accuracy: 0.8822\n",
      "Epoch 8/20\n",
      "30/30 [==============================] - 20s 653ms/step - loss: 0.0668 - accuracy: 0.9823 - val_loss: 0.3621 - val_accuracy: 0.8777\n",
      "Epoch 9/20\n",
      "30/30 [==============================] - 16s 547ms/step - loss: 0.0554 - accuracy: 0.9844 - val_loss: 0.4183 - val_accuracy: 0.8717\n",
      "Epoch 10/20\n",
      "30/30 [==============================] - 10s 337ms/step - loss: 0.0477 - accuracy: 0.9865 - val_loss: 0.4126 - val_accuracy: 0.8762\n",
      "Epoch 11/20\n",
      "30/30 [==============================] - 10s 343ms/step - loss: 0.0347 - accuracy: 0.9927 - val_loss: 0.4400 - val_accuracy: 0.8759\n",
      "Epoch 12/20\n",
      "30/30 [==============================] - 13s 427ms/step - loss: 0.0278 - accuracy: 0.9929 - val_loss: 0.4734 - val_accuracy: 0.8730\n",
      "Epoch 13/20\n",
      "30/30 [==============================] - 11s 353ms/step - loss: 0.0162 - accuracy: 0.9975 - val_loss: 0.6021 - val_accuracy: 0.8585\n",
      "Epoch 14/20\n",
      "30/30 [==============================] - 8s 260ms/step - loss: 0.0179 - accuracy: 0.9955 - val_loss: 0.5419 - val_accuracy: 0.8701\n",
      "Epoch 15/20\n",
      "30/30 [==============================] - 8s 250ms/step - loss: 0.0081 - accuracy: 0.9993 - val_loss: 0.5801 - val_accuracy: 0.8669\n",
      "Epoch 16/20\n",
      "30/30 [==============================] - 9s 287ms/step - loss: 0.0144 - accuracy: 0.9960 - val_loss: 0.6193 - val_accuracy: 0.8668\n",
      "Epoch 17/20\n",
      "30/30 [==============================] - 7s 237ms/step - loss: 0.0038 - accuracy: 0.9997 - val_loss: 0.6614 - val_accuracy: 0.8665\n",
      "Epoch 18/20\n",
      "30/30 [==============================] - 8s 253ms/step - loss: 0.0125 - accuracy: 0.9965 - val_loss: 0.6859 - val_accuracy: 0.8675\n",
      "Epoch 19/20\n",
      "30/30 [==============================] - 6s 190ms/step - loss: 0.0020 - accuracy: 0.9999 - val_loss: 0.7185 - val_accuracy: 0.8655\n",
      "Epoch 20/20\n",
      "30/30 [==============================] - 4s 140ms/step - loss: 0.0123 - accuracy: 0.9959 - val_loss: 0.7567 - val_accuracy: 0.8668\n"
     ]
    }
   ],
   "source": [
    "# IMDB\n",
    "\n",
    "from tensorflow.keras.datasets import imdb\n",
    "import numpy as np\n",
    "\n",
    "def vectorize_sequences(sequences, dimension = 10000):\n",
    "    results = np.zeros( (len(sequences), dimension) )\n",
    "    for i, sequence in enumerate(sequences):\n",
    "        results[i, sequence] = 1.\n",
    "    return results\n",
    "\n",
    "# load\n",
    "((train_data, train_labels), (test_data, test_labels)) = imdb.load_data(num_words = 10000)\n",
    "\n",
    "# preprocess\n",
    "x_train = vectorize_sequences(train_data)\n",
    "x_test = vectorize_sequences(test_data)\n",
    "\n",
    "y_train = np.asarray(train_labels).astype('float32')\n",
    "y_test = np.asarray(test_labels).astype('float32')\n",
    "\n",
    "# build\n",
    "from tensorflow.keras import models\n",
    "from tensorflow.keras import layers\n",
    "model = models.Sequential()\n",
    "model.add(layers.Dense(16, activation = 'relu', input_shape = (10000,)))\n",
    "model.add(layers.Dense(16, activation = 'relu'))\n",
    "model.add(layers.Dense(16, activation = 'relu'))\n",
    "model.add(layers.Dense(1, activation = 'sigmoid'))\n",
    "\n",
    "model.compile(optimizer='rmsprop',\n",
    "             loss='binary_crossentropy',\n",
    "             metrics=['accuracy'])\n",
    "\n",
    "# train\n",
    "x_val = x_train[:10000]\n",
    "partial_x_train = x_train[10000:]\n",
    "y_val = y_train[:10000]\n",
    "partial_y_train = y_train[10000:]\n",
    "\n",
    "history = model.fit(partial_x_train, \n",
    "                    partial_y_train,\n",
    "                    epochs = 20,\n",
    "                    batch_size = 512,\n",
    "                    validation_data = (x_val, y_val)) "
   ]
  },
  {
   "cell_type": "code",
   "execution_count": 2,
   "metadata": {},
   "outputs": [
    {
     "data": {
      "text/plain": [
       "dict_keys(['loss', 'accuracy', 'val_loss', 'val_accuracy'])"
      ]
     },
     "execution_count": 2,
     "metadata": {},
     "output_type": "execute_result"
    }
   ],
   "source": [
    "history_dict = history.history\n",
    "history_dict.keys()"
   ]
  },
  {
   "cell_type": "code",
   "execution_count": 8,
   "metadata": {},
   "outputs": [
    {
     "data": {
      "text/plain": [
       "[0.4917371869087219,\n",
       " 0.3099536895751953,\n",
       " 0.23741023242473602,\n",
       " 0.1969194859266281,\n",
       " 0.16617423295974731,\n",
       " 0.1430968940258026,\n",
       " 0.12524904310703278,\n",
       " 0.10996752977371216,\n",
       " 0.0968882218003273,\n",
       " 0.08510022610425949,\n",
       " 0.07527834922075272,\n",
       " 0.06680238991975784,\n",
       " 0.059222109615802765,\n",
       " 0.05156959220767021,\n",
       " 0.04566461965441704,\n",
       " 0.039903778582811356,\n",
       " 0.035681504756212234,\n",
       " 0.03045818768441677,\n",
       " 0.026612848043441772,\n",
       " 0.02313038893043995]"
      ]
     },
     "execution_count": 8,
     "metadata": {},
     "output_type": "execute_result"
    }
   ],
   "source": [
    "history_dict['loss']"
   ]
  },
  {
   "cell_type": "code",
   "execution_count": 9,
   "metadata": {},
   "outputs": [
    {
     "data": {
      "image/png": "[encoded data removed]",
      "text/plain": [
       "<Figure size 432x288 with 1 Axes>"
      ]
     },
     "metadata": {
      "needs_background": "light"
     },
     "output_type": "display_data"
    }
   ],
   "source": [
    "import matplotlib.pyplot as plt\n",
    "    \n",
    "loss = history_dict['loss']\n",
    "val_loss = history_dict['val_loss']\n",
    "\n",
    "epochs = range(1, len(loss) + 1)\n",
    "\n",
    "blue_dots = 'bo'\n",
    "solid_blue_line = 'b'\n",
    "\n",
    "plt.plot(epochs, loss, blue_dots, label = 'Training loss')\n",
    "plt.plot(epochs, val_loss, solid_blue_line, label = 'Validation loss')\n",
    "plt.title('Training and validation loss')\n",
    "plt.xlabel('Epochs')\n",
    "plt.ylabel('Loss')\n",
    "plt.legend()\n",
    "\n",
    "plt.show()"
   ]
  },
  {
   "cell_type": "code",
   "execution_count": 5,
   "metadata": {},
   "outputs": [
    {
     "data": {
      "text/plain": [
       "[0.7856000065803528,\n",
       " 0.9061999917030334,\n",
       " 0.9278666377067566,\n",
       " 0.9373999834060669,\n",
       " 0.9491333365440369,\n",
       " 0.9575999975204468,\n",
       " 0.9643999934196472,\n",
       " 0.9700666666030884,\n",
       " 0.9742666482925415,\n",
       " 0.9781333208084106,\n",
       " 0.9820666909217834,\n",
       " 0.98580002784729,\n",
       " 0.9874666929244995,\n",
       " 0.9898666739463806,\n",
       " 0.9921333193778992,\n",
       " 0.9928666949272156,\n",
       " 0.9937999844551086,\n",
       " 0.996066689491272,\n",
       " 0.9965333342552185,\n",
       " 0.9970666766166687]"
      ]
     },
     "execution_count": 5,
     "metadata": {},
     "output_type": "execute_result"
    }
   ],
   "source": [
    "history_dict['accuracy']"
   ]
  },
  {
   "cell_type": "code",
   "execution_count": 6,
   "metadata": {},
   "outputs": [
    {
     "data": {
      "image/png": "[encoded data removed]",
      "text/plain": [
       "<Figure size 432x288 with 1 Axes>"
      ]
     },
     "metadata": {
      "needs_background": "light"
     },
     "output_type": "display_data"
    }
   ],
   "source": [
    "plt.clf()\n",
    "\n",
    "acc = history_dict['accuracy']\n",
    "val_acc = history_dict['val_accuracy']\n",
    "    \n",
    "epochs = range(1, len(acc) + 1)\n",
    "\n",
    "blue_dots = 'bo'\n",
    "solid_blue_line = 'b'\n",
    "    \n",
    "plt.plot(epochs, acc, blue_dots, label = 'Training acc')\n",
    "plt.plot(epochs, val_acc, solid_blue_line, label = 'Validation acc')\n",
    "plt.title('Training and validation acc')\n",
    "plt.xlabel('Epochs')\n",
    "plt.ylabel('Accuracy')\n",
    "plt.legend()\n",
    "\n",
    "plt.show()"
   ]
  },
  {
   "cell_type": "markdown",
   "metadata": {},
   "source": [
    "# Answer 2\n",
    "\n",
    "To determine which model is the best, we need to consider various factors such as performance metrics (e.g., accuracy, loss), computational resources required for training, and the specific requirements of the problem or application.\n",
    "\n",
    "Based solely on the provided validation accuracies:\n",
    "\n",
    "- **One Hidden Layer Model**: Validation accuracy stabilizes around 86.90%.\n",
    "- **Two Hidden Layers Model**: Validation accuracy stabilizes around 86.58%.\n",
    "- **Three Hidden Layers Model**: Validation accuracy stabilizes around 86.68%.\n",
    "\n",
    "From the validation accuracy standpoint, the one hidden layer model performs slightly better than the other models. However, the difference in performance is relatively small among the models.\n",
    "\n",
    "Other factors to consider in determining the best model include:\n",
    "- Computational resources: The number of layers and neurons in a neural network can impact training time and computational resources required.\n",
    "- Generalization ability: A model's ability to perform well on unseen data is crucial. Overfitting, as seen in all models, can affect generalization.\n",
    "- Hyperparameter tuning: Further tuning of hyperparameters (e.g., learning rate, batch size) could potentially improve the performance of all models.\n",
    "\n",
    "Therefore, the choice of the best model depends on a trade-off between computational resources, validation performance, and the specific requirements of the problem at hand. It may be beneficial to conduct further experiments, possibly incorporating additional optimization techniques, to determine the most suitable model for the task."
   ]
  },
  {
   "cell_type": "markdown",
   "metadata": {},
   "source": [
    "# Answer 3\n",
    "Predicting the exact results of different model configurations is challenging without actually training the models. However, I can provide some insights based on common trends and observations in neural network training:\n",
    "\n",
    "1. **More Hidden Units (e.g., 64 units)**:\n",
    "   - Increasing the number of hidden units generally allows the model to learn more complex patterns in the data.\n",
    "   - With 64 units in each hidden layer, the model might have a higher capacity to capture intricate relationships in the data, potentially leading to better performance.\n",
    "   - However, a higher number of units also increases the model's complexity, which could potentially lead to overfitting if not properly regularized.\n",
    "\n",
    "2. **Fewer Hidden Units (e.g., 32 units)**:\n",
    "   - Decreasing the number of hidden units reduces the model's capacity to learn complex patterns.\n",
    "   - With 32 units in each hidden layer, the model may capture simpler patterns in the data, potentially resulting in lower performance compared to models with more hidden units.\n",
    "   - However, a simpler model may generalize better to unseen data, especially if the dataset is not overly complex.\n",
    "\n",
    "3. **Performance Comparison**:\n",
    "   - The model with more hidden units (64 units) may achieve higher training accuracy due to its increased capacity to learn complex patterns.\n",
    "   - However, it may also be more susceptible to overfitting, especially if the dataset is not large enough or if regularization techniques are not applied effectively.\n",
    "   - The model with fewer hidden units (32 units) may generalize better to unseen data if the dataset is not too complex or if regularization techniques are insufficient.\n",
    "\n",
    "4. **Training Dynamics**:\n",
    "   - Models with more hidden units typically require more computational resources and training time compared to models with fewer hidden units.\n",
    "   - The training dynamics, including convergence speed and stability, may vary between the two models.\n",
    "\n",
    "In summary, while it's challenging to predict the exact results without training the models, these insights provide a basis for understanding the potential trade-offs between more and fewer hidden units in neural network architectures. Evaluating the performance of each model empirically through training and validation is essential for making informed decisions about model selection."
   ]
  },
  {
   "cell_type": "markdown",
   "metadata": {},
   "source": [
    "# Answer 4\n",
    "Predicting the exact results of using the mean squared error (MSE) loss function instead of binary crossentropy is challenging without actually training the model. However, I can provide some insights based on the characteristics of the MSE loss function compared to binary crossentropy:\n",
    "\n",
    "1. **Impact on Training Dynamics**:\n",
    "   - The MSE loss function measures the average squared difference between the predicted and actual values, which may lead to different training dynamics compared to binary crossentropy.\n",
    "   - MSE loss tends to penalize larger errors more severely compared to binary crossentropy, which may affect the model's convergence speed and stability during training.\n",
    "\n",
    "2. **Effect on Model Performance**:\n",
    "   - The choice of loss function can influence the model's ability to optimize and generalize to unseen data.\n",
    "   - MSE loss is commonly used for regression tasks, where the output is a continuous value. In this case, it's being used for a binary classification task, which may or may not be ideal depending on the specific characteristics of the problem and the data.\n",
    "   - MSE loss may lead to different optimization behavior and final model performance compared to binary crossentropy, especially if the dataset or problem is not well-suited for regression-based loss functions.\n",
    "\n",
    "3. **Comparative Performance**:\n",
    "   - Empirical evaluation of the model trained with MSE loss will be necessary to assess its performance accurately.\n",
    "   - The validation accuracy and loss metrics obtained from training with MSE loss can be compared to those of models trained with binary crossentropy to determine the effectiveness of using MSE in this specific context.\n",
    "\n",
    "In summary, while it's challenging to predict the exact results without training the model, considering the characteristics of the MSE loss function and its potential impact on training dynamics and model performance will provide insights into its effectiveness compared to binary crossentropy for the given binary classification task. Evaluating the model empirically through training and validation is essential for determining its performance accurately."
   ]
  },
  {
   "cell_type": "markdown",
   "metadata": {},
   "source": [
    "# Answer 5\n",
    "\n",
    "Predicting the exact results of replacing ReLU with tanh activations is challenging without actually training the model. However, I can provide some insights based on the characteristics of the tanh activation function compared to ReLU:\n",
    "\n",
    "1. **Impact on Gradient Vanishing/Exploding**:\n",
    "   - The tanh activation function is prone to the vanishing gradient problem, especially in deep networks, which can slow down or hinder convergence during training.\n",
    "   - However, in this relatively shallow network, the vanishing gradient issue may not be as pronounced as in deeper architectures.\n",
    "\n",
    "2. **Effect on Model Dynamics**:\n",
    "   - The tanh activation function outputs values in the range [-1, 1], which can lead to more balanced activations compared to ReLU, which outputs values in the range [0, inf).\n",
    "   - Tanh can be more suitable for inputs that are standardized or centered around zero, as it maintains the mean of the activations closer to zero.\n",
    "\n",
    "3. **Comparative Performance**:\n",
    "   - Empirical evaluation of the model trained with tanh activations will be necessary to assess its performance accurately.\n",
    "   - The validation accuracy and loss metrics obtained from training with tanh activations can be compared to those of models trained with ReLU activations to determine the effectiveness of using tanh in this specific context.\n",
    "\n",
    "4. **Trade-offs**:\n",
    "   - While tanh may offer advantages in certain scenarios, such as better handling of standardized inputs, it may also suffer from the issue of vanishing gradients, especially in deeper networks.\n",
    "   - The choice between tanh and ReLU activations often depends on the specific characteristics of the data and the problem domain, as well as empirical performance on validation data.\n",
    "\n",
    "In summary, while it's challenging to predict the exact results without training the model, considering the characteristics of the tanh activation function and its potential impact on model dynamics and performance will provide insights into its effectiveness compared to ReLU activation for the given binary classification task. Evaluating the model empirically through training and validation is essential for determining its performance accurately."
   ]
  },
  {
   "cell_type": "code",
   "execution_count": null,
   "metadata": {},
   "outputs": [],
   "source": []
  }
 ],
 "metadata": {
  "kernelspec": {
   "display_name": "Python 3",
   "language": "python",
   "name": "python3"
  },
  "language_info": {
   "codemirror_mode": {
    "name": "ipython",
    "version": 3
   },
   "file_extension": ".py",
   "mimetype": "text/x-python",
   "name": "python",
   "nbconvert_exporter": "python",
   "pygments_lexer": "ipython3",
   "version": "3.7.6"
  }
 },
 "nbformat": 4,
 "nbformat_minor": 2
}
