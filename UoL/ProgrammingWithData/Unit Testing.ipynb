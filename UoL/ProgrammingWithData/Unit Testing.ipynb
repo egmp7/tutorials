{
 "cells": [
  {
   "cell_type": "code",
   "execution_count": 66,
   "id": "6f6deace",
   "metadata": {},
   "outputs": [
    {
     "name": "stdout",
     "output_type": "stream",
     "text": [
      "what\n",
      "test: 6 passed:  6\n"
     ]
    }
   ],
   "source": [
    "def get_highest(input):\n",
    "    max_val = input[0]\n",
    "    \n",
    "    for i in input:\n",
    "        if type(i) != int and type (i) != float:\n",
    "            print(i)\n",
    "            return None\n",
    "    \n",
    "    for i in range(1,len(input)):\n",
    "        if input[i]> max_val:\n",
    "            max_val = input[i]\n",
    "    return max_val\n",
    "\n",
    "def test_exist():\n",
    "    res = get_highest([1,2,3,4])\n",
    "    return 1\n",
    "\n",
    "def test_return():\n",
    "    res = get_highest([1,2,3,4])\n",
    "    if res == None:\n",
    "        return 0\n",
    "    else:\n",
    "        return 1\n",
    "    \n",
    "def test_four():\n",
    "    res = get_highest([1,2,3,4])\n",
    "    if res == 4:\n",
    "        return 1\n",
    "    else:\n",
    "        return 0\n",
    "    \n",
    "def test_five():\n",
    "    res = get_highest([1,2,4,5])\n",
    "    if res == 5:\n",
    "        return 1\n",
    "    else:\n",
    "        return 0\n",
    "    \n",
    "def test_mid_five():\n",
    "    res = get_highest([1,2,5,3,4])\n",
    "    if res == 5:\n",
    "        return 1\n",
    "    else:\n",
    "        return 0\n",
    "    \n",
    "def test_string():\n",
    "    res = get_highest([1,\"what\",3,\"hello\"])\n",
    "    if res == None:\n",
    "        return 1\n",
    "    else:\n",
    "        return 0\n",
    "    \n",
    "tests_passed = 0\n",
    "test_set =6 \n",
    "\n",
    "tests_passed = tests_passed + test_exist()\n",
    "tests_passed = tests_passed + test_return()\n",
    "tests_passed = tests_passed + test_four()\n",
    "tests_passed = tests_passed + test_five()\n",
    "tests_passed = tests_passed + test_mid_five()\n",
    "tests_passed = tests_passed + test_string()\n",
    "\n",
    "\n",
    "\n",
    "\n",
    "\n",
    "print(\"test:\", test_set, \"passed: \", tests_passed)"
   ]
  },
  {
   "cell_type": "code",
   "execution_count": 50,
   "id": "91312052",
   "metadata": {},
   "outputs": [
    {
     "name": "stderr",
     "output_type": "stream",
     "text": [
      "test_2_plus_2_is_4 (__main__.MyTestSet) ... ok\n",
      "test_2_plus_2_is_5 (__main__.MyTestSet) ... FAIL\n",
      "\n",
      "======================================================================\n",
      "FAIL: test_2_plus_2_is_5 (__main__.MyTestSet)\n",
      "----------------------------------------------------------------------\n",
      "Traceback (most recent call last):\n",
      "  File \"/var/folders/56/nxgsr7252x37j9vcykzv72_w0000gn/T/ipykernel_7872/1169243066.py\", line 5, in test_2_plus_2_is_5\n",
      "    self.assertEqual(2+2,5)\n",
      "AssertionError: 4 != 5\n",
      "\n",
      "----------------------------------------------------------------------\n",
      "Ran 2 tests in 0.021s\n",
      "\n",
      "FAILED (failures=1)\n"
     ]
    },
    {
     "data": {
      "text/plain": [
       "<unittest.main.TestProgram at 0x10c52c4f0>"
      ]
     },
     "execution_count": 50,
     "metadata": {},
     "output_type": "execute_result"
    }
   ],
   "source": [
    "import unittest\n",
    "\n",
    "class MyTestSet(unittest.TestCase):\n",
    "    def test_2_plus_2_is_5(self):\n",
    "        self.assertEqual(2+2,5)\n",
    "    def test_2_plus_2_is_4(self):\n",
    "        self.assertEqual(2+2,4)\n",
    "        \n",
    "\n",
    "        \n",
    "unittest.main(argv=['ignored','-v'],exit=False)\n"
   ]
  },
  {
   "cell_type": "code",
   "execution_count": 51,
   "id": "a4436ce2",
   "metadata": {},
   "outputs": [],
   "source": [
    "?unittest.TestCase.assertAlmostEqual"
   ]
  },
  {
   "cell_type": "code",
   "execution_count": 71,
   "id": "edd88915",
   "metadata": {},
   "outputs": [
    {
     "name": "stderr",
     "output_type": "stream",
     "text": [
      "test_4_mid (__main__.MyTestSet) ... ok\n",
      "test_func_exists (__main__.MyTestSet) ... ok\n",
      "test_ret (__main__.MyTestSet) ... ok\n",
      "test_ret_4 (__main__.MyTestSet) ... ok\n",
      "test_ret_5 (__main__.MyTestSet) ... ok\n",
      "test_str (__main__.MyTestSet) ... ok\n",
      "\n",
      "----------------------------------------------------------------------\n",
      "Ran 6 tests in 0.052s\n",
      "\n",
      "OK\n"
     ]
    },
    {
     "data": {
      "text/plain": [
       "<unittest.main.TestProgram at 0x10ccc86a0>"
      ]
     },
     "execution_count": 71,
     "metadata": {},
     "output_type": "execute_result"
    }
   ],
   "source": [
    "import unittest\n",
    "\n",
    "def get_highest2(numbers):\n",
    "    \n",
    "    \n",
    "    max_value = numbers[0]\n",
    "    for i in numbers:\n",
    "        \n",
    "        if type(i) is not float and type (i) is not int:\n",
    "            return None\n",
    "        \n",
    "        if i > max_value:\n",
    "            max_value =i\n",
    "            \n",
    "     \n",
    "    return max_value\n",
    "\n",
    "class MyTestSet(unittest.TestCase):\n",
    "\n",
    "    def test_func_exists(self):\n",
    "        self.assertIsNotNone(get_highest2)\n",
    "    def test_ret(self):\n",
    "        self.assertIsNotNone(get_highest2([0]))\n",
    "    def test_ret_4(self):\n",
    "        self.assertEqual(4,get_highest2([1,2,3,4]))\n",
    "    def test_ret_5(self):\n",
    "        self.assertEqual(5,get_highest2([1,2,3,5]))\n",
    "    def test_4_mid(self):\n",
    "        self.assertEqual(4,get_highest2([1,2,4,0]))\n",
    "    def test_str(self):\n",
    "        input = [1,2,3,\"Hello\",[\"whoa\"]]\n",
    "        self.assertIsNone(get_highest2(input))\n",
    "        \n",
    "\n",
    "        \n",
    "unittest.main(argv=['ignored','-v'],exit=False)"
   ]
  },
  {
   "cell_type": "code",
   "execution_count": null,
   "id": "55cfcf18",
   "metadata": {},
   "outputs": [],
   "source": []
  }
 ],
 "metadata": {
  "kernelspec": {
   "display_name": "Python 3 (ipykernel)",
   "language": "python",
   "name": "python3"
  },
  "language_info": {
   "codemirror_mode": {
    "name": "ipython",
    "version": 3
   },
   "file_extension": ".py",
   "mimetype": "text/x-python",
   "name": "python",
   "nbconvert_exporter": "python",
   "pygments_lexer": "ipython3",
   "version": "3.10.7"
  }
 },
 "nbformat": 4,
 "nbformat_minor": 5
}
