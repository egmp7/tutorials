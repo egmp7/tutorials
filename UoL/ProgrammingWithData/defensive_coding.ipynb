{
 "cells": [
  {
   "cell_type": "markdown",
   "metadata": {},
   "source": [
    "## Part 1: Checking inputs\n",
    "\n",
    "In this part of the exercise, there are many possible correct answers -- don't be afraid to try multiple solutions to the same problem.\n",
    "\n",
    "You may want to use Python's str.isnumeric() function: "
   ]
  },
  {
   "cell_type": "code",
   "execution_count": 7,
   "metadata": {},
   "outputs": [],
   "source": [
    "# Here, your task is to write a divide() function (or different \n",
    "# versions so that it meets the implied requirements of the \n",
    "# given series of calls in the next cell\n",
    "\n",
    "def divide(x,y = 1):\n",
    "    print(float(x)/float(y))\n",
    "    return float(x)/float(y)"
   ]
  },
  {
   "cell_type": "code",
   "execution_count": 8,
   "metadata": {},
   "outputs": [
    {
     "name": "stdout",
     "output_type": "stream",
     "text": [
      "4.0\n",
      "1.5\n",
      "2.0\n",
      "4.0\n",
      "6.0\n",
      "2.0\n",
      "4.0\n",
      "2.0\n"
     ]
    },
    {
     "data": {
      "text/plain": [
       "2.0"
      ]
     },
     "execution_count": 8,
     "metadata": {},
     "output_type": "execute_result"
    }
   ],
   "source": [
    "# Without changing these calls, make sure your divide() function \n",
    "# above works correctly and prints out values for each of these.\n",
    "divide(4,1)      # -> 4.0\n",
    "divide(3,2)      # -> 1.5\n",
    "divide(4,2)      # -> 2.0\n",
    "divide(4)        # -> 2.0\n",
    "divide(6)        # -> 3.0\n",
    "divide(\"4\",\"2\")  # -> 2.0\n",
    "divide(\"4\")      # -> 2.0\n",
    "divide(4.0, 2.0) # -> 2.0"
   ]
  },
  {
   "cell_type": "code",
   "execution_count": 11,
   "metadata": {},
   "outputs": [],
   "source": [
    "# We may also want to check values, not just types when defining a function\n",
    "# Let's work with the modulo function. Any positive number modulo a negative number\n",
    "# is defined to be 0. Write a function, pos_modulo(a,b) which returns a % b, but\n",
    "# which enforces the constraint that a > 0, otherwise it return None. Also, when\n",
    "# b = 0, return None. Last, instead of computing the modulo of a when b < 0, simply\n",
    "# return 0 when b < 0. Make sure your function satisfies the implied constraints \n",
    "# given in calls to the function in the following cell.\n",
    "#\n",
    "# Performance Trick: try to design your if-elif-else statement in order of most to least\n",
    "# likely branches\n",
    "\n",
    "def pos_modulo(a,b):\n",
    "    if(a < 0):\n",
    "        print(None)\n",
    "        return None\n",
    "    if (b == 0):\n",
    "        print(None)\n",
    "        return None\n",
    "    if (b < 1):\n",
    "        print (0)\n",
    "        return 0\n",
    "    print(a%b)\n",
    "    return a%b\n"
   ]
  },
  {
   "cell_type": "code",
   "execution_count": 12,
   "metadata": {},
   "outputs": [
    {
     "name": "stdout",
     "output_type": "stream",
     "text": [
      "1\n",
      "0\n",
      "0\n",
      "None\n",
      "0\n",
      "0\n",
      "None\n"
     ]
    }
   ],
   "source": [
    "pos_modulo(3,2)   # -> 1\n",
    "pos_modulo(3,1)   # -> 0\n",
    "pos_modulo(3,3)   # -> 0\n",
    "pos_modulo(3,0)   # -> None (b = 0)\n",
    "pos_modulo(3,-1)  # -> 0\n",
    "pos_modulo(3,-2)  # -> 0\n",
    "pos_modulo(-3,-2) # -> None (a < 0)"
   ]
  },
  {
   "cell_type": "markdown",
   "metadata": {},
   "source": [
    "## Part 2: Exception Handling\n",
    "\n",
    "The Python documentation on Errors and Exceptions might be helpful for this exercise: https://docs.python.org/3/tutorial/errors.html"
   ]
  },
  {
   "cell_type": "code",
   "execution_count": null,
   "metadata": {},
   "outputs": [],
   "source": [
    "# Now let's revisit our divide function. Python's built in division will raise an \n",
    "# exception if you try to divide by 0. Write a \"wrapper\" function for division that,\n",
    "# will return None instead of raising an exception for dividing by zero.\n",
    "#\n",
    "# After you've finished that, add exception handling (not input checking) to test\n",
    "# whether the passed parameters are valid floats. If they aren't, try to convert them.\n",
    "# But if this conversion fails, print a warning and return None.\n",
    "\n"
   ]
  },
  {
   "cell_type": "code",
   "execution_count": null,
   "metadata": {},
   "outputs": [],
   "source": [
    "# Now, let's re-write the divide function above to use assert() to check\n",
    "# the inputs. In this case, your function simply halt execution if the\n",
    "# input constraints are not met.\n",
    "#\n",
    "# Hint: assert() can accept a multi-part conditional, like an if statement.\n",
    "\n"
   ]
  }
 ],
 "metadata": {
  "kernelspec": {
   "display_name": "Python 3 (ipykernel)",
   "language": "python",
   "name": "python3"
  },
  "language_info": {
   "codemirror_mode": {
    "name": "ipython",
    "version": 3
   },
   "file_extension": ".py",
   "mimetype": "text/x-python",
   "name": "python",
   "nbconvert_exporter": "python",
   "pygments_lexer": "ipython3",
   "version": "3.8.9"
  }
 },
 "nbformat": 4,
 "nbformat_minor": 2
}
