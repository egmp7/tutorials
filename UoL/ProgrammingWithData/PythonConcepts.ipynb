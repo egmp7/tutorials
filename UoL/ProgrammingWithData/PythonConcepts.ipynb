{
 "cells": [
  {
   "cell_type": "markdown",
   "id": "a9a599da",
   "metadata": {},
   "source": [
    "$(\\frac{a}{x})^2$"
   ]
  },
  {
   "cell_type": "code",
   "execution_count": 6,
   "id": "67e543d7",
   "metadata": {},
   "outputs": [
    {
     "name": "stdout",
     "output_type": "stream",
     "text": [
      "Erick\n"
     ]
    }
   ],
   "source": [
    "me = \"Erick\"\n",
    "print(me)"
   ]
  },
  {
   "cell_type": "code",
   "execution_count": 7,
   "id": "18dc6bdf",
   "metadata": {},
   "outputs": [
    {
     "name": "stdout",
     "output_type": "stream",
     "text": [
      "Errrick\n"
     ]
    }
   ],
   "source": [
    "me = me.replace(\"r\",\"rrr\")\n",
    "print(me)"
   ]
  },
  {
   "cell_type": "code",
   "execution_count": 11,
   "id": "b97c8d09",
   "metadata": {},
   "outputs": [
    {
     "data": {
      "text/plain": [
       "[0, 2, 4, 6, 8]"
      ]
     },
     "execution_count": 11,
     "metadata": {},
     "output_type": "execute_result"
    }
   ],
   "source": [
    "list(range(0,10,2))"
   ]
  },
  {
   "cell_type": "code",
   "execution_count": null,
   "id": "2169f975",
   "metadata": {},
   "outputs": [],
   "source": []
  }
 ],
 "metadata": {
  "kernelspec": {
   "display_name": "Python 3 (ipykernel)",
   "language": "python",
   "name": "python3"
  },
  "language_info": {
   "codemirror_mode": {
    "name": "ipython",
    "version": 3
   },
   "file_extension": ".py",
   "mimetype": "text/x-python",
   "name": "python",
   "nbconvert_exporter": "python",
   "pygments_lexer": "ipython3",
   "version": "3.8.9"
  }
 },
 "nbformat": 4,
 "nbformat_minor": 5
}
