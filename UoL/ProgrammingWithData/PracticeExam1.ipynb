{
 "cells": [
  {
   "cell_type": "markdown",
   "id": "432706c8",
   "metadata": {},
   "source": [
    "<p>Write a program using Pandas to extract the first 9 records from a data frame ‘cars’.</p>"
   ]
  },
  {
   "cell_type": "code",
   "execution_count": 1,
   "id": "23ba35bf",
   "metadata": {},
   "outputs": [],
   "source": [
    "import pandas as pd"
   ]
  },
  {
   "cell_type": "code",
   "execution_count": 2,
   "id": "c7aa04b6",
   "metadata": {},
   "outputs": [
    {
     "data": {
      "text/html": [
       "<div>\n",
       "<style scoped>\n",
       "    .dataframe tbody tr th:only-of-type {\n",
       "        vertical-align: middle;\n",
       "    }\n",
       "\n",
       "    .dataframe tbody tr th {\n",
       "        vertical-align: top;\n",
       "    }\n",
       "\n",
       "    .dataframe thead th {\n",
       "        text-align: right;\n",
       "    }\n",
       "</style>\n",
       "<table border=\"1\" class=\"dataframe\">\n",
       "  <thead>\n",
       "    <tr style=\"text-align: right;\">\n",
       "      <th></th>\n",
       "      <th>cars</th>\n",
       "    </tr>\n",
       "  </thead>\n",
       "  <tbody>\n",
       "    <tr>\n",
       "      <th>0</th>\n",
       "      <td>0</td>\n",
       "    </tr>\n",
       "    <tr>\n",
       "      <th>1</th>\n",
       "      <td>1</td>\n",
       "    </tr>\n",
       "    <tr>\n",
       "      <th>2</th>\n",
       "      <td>2</td>\n",
       "    </tr>\n",
       "    <tr>\n",
       "      <th>3</th>\n",
       "      <td>3</td>\n",
       "    </tr>\n",
       "    <tr>\n",
       "      <th>4</th>\n",
       "      <td>4</td>\n",
       "    </tr>\n",
       "    <tr>\n",
       "      <th>5</th>\n",
       "      <td>5</td>\n",
       "    </tr>\n",
       "    <tr>\n",
       "      <th>6</th>\n",
       "      <td>6</td>\n",
       "    </tr>\n",
       "    <tr>\n",
       "      <th>7</th>\n",
       "      <td>7</td>\n",
       "    </tr>\n",
       "    <tr>\n",
       "      <th>8</th>\n",
       "      <td>8</td>\n",
       "    </tr>\n",
       "    <tr>\n",
       "      <th>9</th>\n",
       "      <td>9</td>\n",
       "    </tr>\n",
       "  </tbody>\n",
       "</table>\n",
       "</div>"
      ],
      "text/plain": [
       "   cars\n",
       "0     0\n",
       "1     1\n",
       "2     2\n",
       "3     3\n",
       "4     4\n",
       "5     5\n",
       "6     6\n",
       "7     7\n",
       "8     8\n",
       "9     9"
      ]
     },
     "execution_count": 2,
     "metadata": {},
     "output_type": "execute_result"
    }
   ],
   "source": [
    "df = pd.DataFrame({\"cars\":[0,1,2,3,4,5,6,7,8,9]})\n",
    "df"
   ]
  },
  {
   "cell_type": "code",
   "execution_count": 3,
   "id": "d5ad45fb",
   "metadata": {},
   "outputs": [
    {
     "data": {
      "text/html": [
       "<div>\n",
       "<style scoped>\n",
       "    .dataframe tbody tr th:only-of-type {\n",
       "        vertical-align: middle;\n",
       "    }\n",
       "\n",
       "    .dataframe tbody tr th {\n",
       "        vertical-align: top;\n",
       "    }\n",
       "\n",
       "    .dataframe thead th {\n",
       "        text-align: right;\n",
       "    }\n",
       "</style>\n",
       "<table border=\"1\" class=\"dataframe\">\n",
       "  <thead>\n",
       "    <tr style=\"text-align: right;\">\n",
       "      <th></th>\n",
       "      <th>cars</th>\n",
       "    </tr>\n",
       "  </thead>\n",
       "  <tbody>\n",
       "    <tr>\n",
       "      <th>0</th>\n",
       "      <td>0</td>\n",
       "    </tr>\n",
       "    <tr>\n",
       "      <th>1</th>\n",
       "      <td>1</td>\n",
       "    </tr>\n",
       "    <tr>\n",
       "      <th>2</th>\n",
       "      <td>2</td>\n",
       "    </tr>\n",
       "    <tr>\n",
       "      <th>3</th>\n",
       "      <td>3</td>\n",
       "    </tr>\n",
       "    <tr>\n",
       "      <th>4</th>\n",
       "      <td>4</td>\n",
       "    </tr>\n",
       "    <tr>\n",
       "      <th>5</th>\n",
       "      <td>5</td>\n",
       "    </tr>\n",
       "    <tr>\n",
       "      <th>6</th>\n",
       "      <td>6</td>\n",
       "    </tr>\n",
       "    <tr>\n",
       "      <th>7</th>\n",
       "      <td>7</td>\n",
       "    </tr>\n",
       "    <tr>\n",
       "      <th>8</th>\n",
       "      <td>8</td>\n",
       "    </tr>\n",
       "  </tbody>\n",
       "</table>\n",
       "</div>"
      ],
      "text/plain": [
       "   cars\n",
       "0     0\n",
       "1     1\n",
       "2     2\n",
       "3     3\n",
       "4     4\n",
       "5     5\n",
       "6     6\n",
       "7     7\n",
       "8     8"
      ]
     },
     "execution_count": 3,
     "metadata": {},
     "output_type": "execute_result"
    }
   ],
   "source": [
    "df.head(9)"
   ]
  },
  {
   "cell_type": "code",
   "execution_count": null,
   "id": "b680bd90",
   "metadata": {},
   "outputs": [],
   "source": [
    "SELECT * FROM CARS LIMIT 5;"
   ]
  },
  {
   "cell_type": "markdown",
   "id": "867414e7",
   "metadata": {},
   "source": [
    "<p>Write a program that calculates the number of days in the month selected\n",
    "by the user</p>"
   ]
  },
  {
   "cell_type": "code",
   "execution_count": 4,
   "id": "67b9f79e",
   "metadata": {},
   "outputs": [],
   "source": [
    "def daysOfMonth(month):\n",
    "    if(month == \"January\"): return 31\n",
    "    if(month == \"February\"): return 28\n",
    "    if(month == \"March\"): return 31\n",
    "    if(month == \"Abril\"): return 30\n",
    "    if(month == \"May\"): return 31\n",
    "    if(month == \"June\"): return 30\n",
    "    if(month == \"July\"): return 31\n",
    "    if(month == \"August\"): return 31\n",
    "    if(month == \"September\"): return 30\n",
    "    if(month == \"October\"): return 31\n",
    "    if(month == \"November\"): return 30\n",
    "    if(month == \"December\"): return 31\n",
    "    return None"
   ]
  },
  {
   "cell_type": "code",
   "execution_count": 8,
   "id": "3589457d",
   "metadata": {},
   "outputs": [
    {
     "data": {
      "text/plain": [
       "28"
      ]
     },
     "execution_count": 8,
     "metadata": {},
     "output_type": "execute_result"
    }
   ],
   "source": [
    "daysOfMonth(\"February\")"
   ]
  },
  {
   "cell_type": "markdown",
   "id": "02cc7476",
   "metadata": {},
   "source": [
    "<p> Write a Python function to find and show the length of values contained in\n",
    "a dictionary. </p>"
   ]
  },
  {
   "cell_type": "code",
   "execution_count": 41,
   "id": "66b3ca64",
   "metadata": {},
   "outputs": [],
   "source": [
    "d = {\"a\":\"aaasd122\",\"b\":[1,2,3],\"c\":{\"a\":1,\"b\":2}}"
   ]
  },
  {
   "cell_type": "code",
   "execution_count": 46,
   "id": "61b849f8",
   "metadata": {},
   "outputs": [],
   "source": [
    "def dictionaryLength(dictionary):\n",
    "    for element in dictionary:\n",
    "        # if value is list or dictionary\n",
    "        if(isinstance(dictionary[element],list) or isinstance(dictionary[element],dict)):\n",
    "            print(dictionary[element],\"size:\", len(dictionary[element]))\n",
    "        else:\n",
    "            print(dictionary[element],\"size:\" ,len(str(dictionary[element])))"
   ]
  },
  {
   "cell_type": "code",
   "execution_count": 47,
   "id": "ec27bdb7",
   "metadata": {},
   "outputs": [
    {
     "name": "stdout",
     "output_type": "stream",
     "text": [
      "aaasd122 size: 8\n",
      "[1, 2, 3] size: 3\n",
      "{'a': 1, 'b': 2} size: 2\n"
     ]
    }
   ],
   "source": [
    "dictionaryLength(d)"
   ]
  },
  {
   "cell_type": "markdown",
   "id": "a46b6984",
   "metadata": {},
   "source": [
    "<p>Write a Python program to check that a password p meets the following rules:</p>\n",
    "<ul>\n",
    "    <li>Contains both lower and uppercase letters</li>\n",
    "    <li>Contains a number</li>\n",
    "    <li>Is between 4 and ten characters</li>\n",
    "</ul>"
   ]
  },
  {
   "cell_type": "code",
   "execution_count": 78,
   "id": "4d15b49f",
   "metadata": {},
   "outputs": [],
   "source": [
    "import re\n",
    "\n",
    "def passwordCheck(password):\n",
    "    \n",
    "    if not isinstance(password,str) : return None\n",
    "    \n",
    "    flag = 0;\n",
    "    if len(password) < 4 or len(password) > 10 : flag = -1\n",
    "    if not re.search(\"[a-z]\", password) : flag = -1\n",
    "    if not re.search(\"[A-Z]\", password) : flag = -1\n",
    "    if not re.search(\"[0-9]\", password) : flag = -1\n",
    "    \n",
    "    \n",
    "    if flag == 0: print(\"password pass\")\n",
    "    else: print(\"password did not pass\")\n",
    "    "
   ]
  },
  {
   "cell_type": "code",
   "execution_count": 83,
   "id": "c0d53347",
   "metadata": {},
   "outputs": [
    {
     "name": "stdout",
     "output_type": "stream",
     "text": [
      "password pass\n"
     ]
    }
   ],
   "source": [
    "passwordCheck(\"aaaAasD1\")"
   ]
  },
  {
   "cell_type": "code",
   "execution_count": null,
   "id": "f281c961",
   "metadata": {},
   "outputs": [],
   "source": []
  }
 ],
 "metadata": {
  "kernelspec": {
   "display_name": "Python 3 (ipykernel)",
   "language": "python",
   "name": "python3"
  },
  "language_info": {
   "codemirror_mode": {
    "name": "ipython",
    "version": 3
   },
   "file_extension": ".py",
   "mimetype": "text/x-python",
   "name": "python",
   "nbconvert_exporter": "python",
   "pygments_lexer": "ipython3",
   "version": "3.8.9"
  }
 },
 "nbformat": 4,
 "nbformat_minor": 5
}
